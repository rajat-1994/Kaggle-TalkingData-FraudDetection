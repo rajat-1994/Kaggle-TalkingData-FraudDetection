{
  "cells": [
    {
      "metadata": {
        "_uuid": "8f2839f25d086af736a60e9eeb907d3b93b6e0e5",
        "_cell_guid": "b1076dfc-b9ad-4769-8c92-a6c4dae69d19",
        "trusted": true
      },
      "cell_type": "code",
      "source": "# This Python 3 environment comes with many helpful analytics libraries installed\n# It is defined by the kaggle/python docker image: https://github.com/kaggle/docker-python\n# For example, here's several helpful packages to load in \n\n\nimport gc\nimport time\nimport numpy as np\nimport pandas as pd\nfrom sklearn.cross_validation import train_test_split\nimport lightgbm as lgbm\nfrom xgboost import plot_importance\nimport matplotlib.pyplot as plt\n# Input data files are available in the \"../input/\" directory.\n# For example, running this (by clicking run or pressing Shift+Enter) will list the files in the input directory\n\nimport os\nprint(os.listdir(\"../input\"))\n\n# Any results you write to the current directory are saved as output.",
      "execution_count": 1,
      "outputs": [
        {
          "output_type": "stream",
          "text": "['test_supplement.csv', 'train.csv', 'test.csv', 'sample_submission.csv', 'train_sample.csv']\n",
          "name": "stdout"
        },
        {
          "output_type": "stream",
          "text": "/opt/conda/lib/python3.6/site-packages/sklearn/cross_validation.py:41: DeprecationWarning: This module was deprecated in version 0.18 in favor of the model_selection module into which all the refactored classes and functions are moved. Also note that the interface of the new CV iterators are different from that of this module. This module will be removed in 0.20.\n  \"This module will be removed in 0.20.\", DeprecationWarning)\n",
          "name": "stderr"
        }
      ]
    },
    {
      "metadata": {
        "_cell_guid": "79c7e3d0-c299-4dcb-8224-4455121ee9b0",
        "_uuid": "d629ff2d2480ee46fbb7e2d37f6b5fab8052498a",
        "scrolled": true,
        "trusted": true
      },
      "cell_type": "code",
      "source": "%%time\nis_valid = False\n\npath = '../input/'\n\ntrain_columns = ['ip', 'app', 'device', 'os', 'channel', 'click_time', 'is_attributed']\ntest_columns  = ['ip', 'app', 'device', 'os', 'channel', 'click_time']\ndtypes = {\n        'ip'            : 'uint32',\n        'app'           : 'uint16',\n        'device'        : 'uint16',\n        'os'            : 'uint16',\n        'channel'       : 'uint16',\n        'is_attributed' : 'uint8',\n        'click_id'      : 'uint32'\n        }\n\n# Read the last lines because they are more impacting in training than the starting lines\ntrain = pd.read_csv(path+\"train.csv\", skiprows=range(1,131886954), nrows=53016937, usecols=train_columns, dtype=dtypes)\ntest = pd.read_csv(path+\"test.csv\", usecols=test_columns, dtype=dtypes)\n",
      "execution_count": 2,
      "outputs": [
        {
          "output_type": "stream",
          "text": "CPU times: user 2min 9s, sys: 15.5 s, total: 2min 25s\nWall time: 2min 22s\n",
          "name": "stdout"
        }
      ]
    },
    {
      "metadata": {
        "collapsed": true,
        "_uuid": "eb9e0a62b92300d70c34deafde1a1a468d437351",
        "_cell_guid": "6fb4b230-4bd4-4de6-ba58-0d3cd4ecd6c0",
        "trusted": false
      },
      "cell_type": "code",
      "source": "test.head()",
      "execution_count": null,
      "outputs": []
    },
    {
      "metadata": {
        "collapsed": true,
        "_uuid": "e797d776dce96766e9cd57bd3d903ed66605adec",
        "_cell_guid": "8ac6d470-3d6d-444e-b128-a471545dad03",
        "trusted": true
      },
      "cell_type": "code",
      "source": "Y=train.is_attributed\ntrain.drop('is_attributed',axis=1,inplace=True)",
      "execution_count": 3,
      "outputs": []
    },
    {
      "metadata": {
        "collapsed": true,
        "_uuid": "aa2b45f563a1ea1279c290cd04f9d58079ad3532",
        "_cell_guid": "77381b73-2e0f-45dd-8125-c41a00cf98f8",
        "trusted": true
      },
      "cell_type": "code",
      "source": "def timeFeatures(df):\n    # Make some new features with click_time column\n    df['datetime'] = pd.to_datetime(df['click_time'])\n    df['dow']      = df['datetime'].dt.dayofweek\n    df[\"hour\"]      = df[\"datetime\"].dt.hour\n    #df[\"dteom\"]    = df[\"datetime\"].dt.daysinmonth - df[\"datetime\"].dt.day\n    df.drop(['datetime'], axis=1, inplace=True)\n    return df\n",
      "execution_count": 4,
      "outputs": []
    },
    {
      "metadata": {
        "collapsed": true,
        "_uuid": "7cce44bdbdd2a5c06353202a2a9a14d26b154f67",
        "_cell_guid": "f82c782c-ed49-4862-a983-4f530e872a9b",
        "trusted": true
      },
      "cell_type": "code",
      "source": "test=timeFeatures(test)\ntrain=timeFeatures(train)",
      "execution_count": 5,
      "outputs": []
    },
    {
      "metadata": {
        "_uuid": "0d88a5941727a50b396f072a833b3f4ecfcfa64c",
        "_cell_guid": "4ef5c053-2523-4577-9588-1808c73b750d",
        "trusted": true
      },
      "cell_type": "code",
      "source": "nrow_train = train.shape[0]\nmerge = pd.concat([train, test])\ngc.collect()",
      "execution_count": 6,
      "outputs": [
        {
          "output_type": "execute_result",
          "execution_count": 6,
          "data": {
            "text/plain": "247"
          },
          "metadata": {}
        }
      ]
    },
    {
      "metadata": {
        "trusted": true,
        "_uuid": "b1d8a8b67f5c85336a74b78b2a452f45723a9a24"
      },
      "cell_type": "code",
      "source": "\n###Experiment\n# Count the number of clicks by ip\nip_count = merge.groupby(['ip','device','os'])['channel'].count().reset_index()\nip_count.columns = ['ip','device','os', 'clicks_by_ip_os_device']\nmerge = pd.merge(merge, ip_count, on=['ip','device','os'], how='left', sort=False)\nmerge['clicks_by_ip_os_device'] = merge['clicks_by_ip_os_device'].astype('uint16')\ndel ip_count\ngc.collect()",
      "execution_count": 8,
      "outputs": [
        {
          "output_type": "execute_result",
          "execution_count": 8,
          "data": {
            "text/plain": "42"
          },
          "metadata": {}
        }
      ]
    },
    {
      "metadata": {
        "trusted": true,
        "_uuid": "9a7fbeac635352fdba1da67358c7946b3abdf864"
      },
      "cell_type": "code",
      "source": "###Experiment\nip_count = merge.groupby(['ip','device','os','app'])['channel'].count().reset_index()\nip_count.columns = ['ip','device','os','app', 'clicks_by_ip_os_device_app']\nmerge = pd.merge(merge, ip_count, on=['ip','device','os','app'], how='left', sort=False)\nmerge['clicks_by_ip_os_device_app'] = merge['clicks_by_ip_os_device_app'].astype('uint16')\ndel ip_count\ngc.collect()",
      "execution_count": 11,
      "outputs": [
        {
          "output_type": "execute_result",
          "execution_count": 11,
          "data": {
            "text/plain": "114"
          },
          "metadata": {}
        }
      ]
    },
    {
      "metadata": {
        "trusted": true,
        "_uuid": "bd78fe79822260892a7c084930ceed55237b4872"
      },
      "cell_type": "code",
      "source": "###Experiment\nip_count = merge.groupby(['ip'])['channel'].count().reset_index()\nip_count.columns = ['ip', 'clicks_by_ip']\nmerge = pd.merge(merge, ip_count, on='ip', how='left', sort=False)\nmerge['clicks_by_ip'] = merge['clicks_by_ip'].astype('uint16')\ndel ip_count\ngc.collect()",
      "execution_count": 12,
      "outputs": [
        {
          "output_type": "execute_result",
          "execution_count": 12,
          "data": {
            "text/plain": "35"
          },
          "metadata": {}
        }
      ]
    },
    {
      "metadata": {
        "_uuid": "6dece8f17395aeca9a2a9e812171c9311ca6719e",
        "_cell_guid": "cb24eef3-f8f4-4888-b156-82423ac761f1",
        "trusted": false,
        "collapsed": true
      },
      "cell_type": "code",
      "source": "%%time\nip_count = merge.groupby(['ip','dow','hour'])['channel'].count().reset_index()\nip_count.columns = ['ip','dow','hour','clicks_by_ip_dow_hour']\nmerge = pd.merge(merge, ip_count, on=['ip','dow','hour'], how='left', sort=False)\nmerge['clicks_by_ip_dow_hour'] = merge['clicks_by_ip_dow_hour'].astype('uint16')\ndel ip_count\ngc.collect()",
      "execution_count": null,
      "outputs": []
    },
    {
      "metadata": {
        "_uuid": "01b18566d2742f3af856ef619e5c7f452fef8885",
        "_cell_guid": "8fed1865-d000-47ee-8c4d-3eefc00e7fa7",
        "trusted": false,
        "collapsed": true
      },
      "cell_type": "code",
      "source": "%%time\n\n# Count the number of clicks by ip\nip_count = merge.groupby(['ip'])['channel'].count().reset_index()\nip_count.columns = ['ip', 'clicks_by_ip']\nmerge = pd.merge(merge, ip_count, on='ip', how='left', sort=False)\nmerge['clicks_by_ip'] = merge['clicks_by_ip'].astype('uint16')\ndel ip_count\ngc.collect()\n\nip_count = merge.groupby(['ip','app'])['channel'].count().reset_index()\nip_count.columns = ['ip','app', 'clicks_by_ip_app']\nmerge = pd.merge(merge, ip_count, on=['ip','app'], how='left', sort=False)\nmerge['clicks_by_ip_app'] = merge['clicks_by_ip_app'].astype('uint16')\ndel ip_count\ngc.collect()\n\nip_count = merge.groupby(['ip','os'])['channel'].count().reset_index()\nip_count.columns = ['ip','os', 'clicks_by_ip_os']\nmerge = pd.merge(merge, ip_count, on=['ip','os'], how='left', sort=False)\nmerge['clicks_by_ip_os'] = merge['clicks_by_ip_os'].astype('uint16')\ndel ip_count\n#merge.drop('ip', axis=1, inplace=True)\ngc.collect()\n",
      "execution_count": null,
      "outputs": []
    },
    {
      "metadata": {
        "_cell_guid": "0a89d478-8074-4d4a-9542-d411dd749f81",
        "_uuid": "b72b2a67c0e2d8a30c039e7ee94eb865017e68c9",
        "scrolled": true,
        "trusted": false,
        "collapsed": true
      },
      "cell_type": "code",
      "source": "%%time\n\n# Count the number of os by ip\nip_count = merge.groupby(['channel'])['os'].count().reset_index()\nip_count.columns = ['channel', 'clicks_by_channel']\nmerge = pd.merge(merge, ip_count, on='channel', how='left', sort=False)\nmerge['clicks_by_channel'] = merge['clicks_by_channel'].astype('uint16')\n#merge.drop('channel', axis=1, inplace=True)\ndel ip_count\nprint('channel done')\n\nip_count = merge.groupby(['os'])['channel'].count().reset_index()\nip_count.columns = ['os', 'clicks_by_os']\nmerge = pd.merge(merge, ip_count, on='os', how='left', sort=False)\nmerge['clicks_by_os'] = merge['clicks_by_os'].astype('uint16')\n#merge.drop('os', axis=1, inplace=True)\ndel ip_count\nprint('os done')\ngc.collect()\n\nip_count = merge.groupby(['app'])['channel'].count().reset_index()\nip_count.columns = ['app', 'clicks_by_app']\nmerge = pd.merge(merge, ip_count, on='app', how='left', sort=False)\nmerge['clicks_by_app'] = merge['clicks_by_app'].astype('uint16')\n#merge.drop('app', axis=1, inplace=True)\ndel ip_count\n\nprint('app done')\n#del ip_count,merge\n#gc.collect()",
      "execution_count": null,
      "outputs": []
    },
    {
      "metadata": {
        "_uuid": "8915c9f9df72c9b140719ab9070f1d558d599ffd",
        "_cell_guid": "16bec276-ebb6-4248-8eb2-e65f76fa3a36",
        "trusted": true
      },
      "cell_type": "code",
      "source": "\ntrain = merge[:nrow_train]\ntest = merge[nrow_train:]\n\ndel merge\n\ngc.collect()",
      "execution_count": 13,
      "outputs": [
        {
          "output_type": "execute_result",
          "execution_count": 13,
          "data": {
            "text/plain": "19"
          },
          "metadata": {}
        }
      ]
    },
    {
      "metadata": {
        "_uuid": "84b9414f72ef18310d483a8868a22a49745d52e4",
        "_cell_guid": "e02b4eff-1de9-4816-abae-bed7a34da202",
        "trusted": true
      },
      "cell_type": "code",
      "source": "test.head()",
      "execution_count": 15,
      "outputs": [
        {
          "output_type": "execute_result",
          "execution_count": 15,
          "data": {
            "text/plain": "              ip  app  device  os  channel           click_time  dow  hour  \\\n53016937    5744    9       1   3      107  2017-11-10 04:00:00    4     4   \n53016938  119901    9       1   3      466  2017-11-10 04:00:00    4     4   \n53016939   72287   21       1  19      128  2017-11-10 04:00:00    4     4   \n53016940   78477   15       1  13      111  2017-11-10 04:00:00    4     4   \n53016941  123080   12       1  13      328  2017-11-10 04:00:00    4     4   \n\n          clicks_by_ip_os_device  clicks_by_ip_os_device_app  clicks_by_ip  \n53016937                       6                           3           469  \n53016938                     164                          14          7918  \n53016939                    1030                          52          5719  \n53016940                     995                          45          4513  \n53016941                     158                          27           583  ",
            "text/html": "<div>\n<style scoped>\n    .dataframe tbody tr th:only-of-type {\n        vertical-align: middle;\n    }\n\n    .dataframe tbody tr th {\n        vertical-align: top;\n    }\n\n    .dataframe thead th {\n        text-align: right;\n    }\n</style>\n<table border=\"1\" class=\"dataframe\">\n  <thead>\n    <tr style=\"text-align: right;\">\n      <th></th>\n      <th>ip</th>\n      <th>app</th>\n      <th>device</th>\n      <th>os</th>\n      <th>channel</th>\n      <th>click_time</th>\n      <th>dow</th>\n      <th>hour</th>\n      <th>clicks_by_ip_os_device</th>\n      <th>clicks_by_ip_os_device_app</th>\n      <th>clicks_by_ip</th>\n    </tr>\n  </thead>\n  <tbody>\n    <tr>\n      <th>53016937</th>\n      <td>5744</td>\n      <td>9</td>\n      <td>1</td>\n      <td>3</td>\n      <td>107</td>\n      <td>2017-11-10 04:00:00</td>\n      <td>4</td>\n      <td>4</td>\n      <td>6</td>\n      <td>3</td>\n      <td>469</td>\n    </tr>\n    <tr>\n      <th>53016938</th>\n      <td>119901</td>\n      <td>9</td>\n      <td>1</td>\n      <td>3</td>\n      <td>466</td>\n      <td>2017-11-10 04:00:00</td>\n      <td>4</td>\n      <td>4</td>\n      <td>164</td>\n      <td>14</td>\n      <td>7918</td>\n    </tr>\n    <tr>\n      <th>53016939</th>\n      <td>72287</td>\n      <td>21</td>\n      <td>1</td>\n      <td>19</td>\n      <td>128</td>\n      <td>2017-11-10 04:00:00</td>\n      <td>4</td>\n      <td>4</td>\n      <td>1030</td>\n      <td>52</td>\n      <td>5719</td>\n    </tr>\n    <tr>\n      <th>53016940</th>\n      <td>78477</td>\n      <td>15</td>\n      <td>1</td>\n      <td>13</td>\n      <td>111</td>\n      <td>2017-11-10 04:00:00</td>\n      <td>4</td>\n      <td>4</td>\n      <td>995</td>\n      <td>45</td>\n      <td>4513</td>\n    </tr>\n    <tr>\n      <th>53016941</th>\n      <td>123080</td>\n      <td>12</td>\n      <td>1</td>\n      <td>13</td>\n      <td>328</td>\n      <td>2017-11-10 04:00:00</td>\n      <td>4</td>\n      <td>4</td>\n      <td>158</td>\n      <td>27</td>\n      <td>583</td>\n    </tr>\n  </tbody>\n</table>\n</div>"
          },
          "metadata": {}
        }
      ]
    },
    {
      "metadata": {
        "collapsed": true,
        "_uuid": "1549259a04936097b6d2b9a33cb8ddc708a801bc",
        "_cell_guid": "cfcfd8ee-bd92-4617-8737-7d96abcca1c1",
        "trusted": true
      },
      "cell_type": "code",
      "source": "train['click_time'] = pd.to_datetime(train['click_time'])\ntest['click_time'] = pd.to_datetime(test['click_time'])",
      "execution_count": 16,
      "outputs": []
    },
    {
      "metadata": {
        "collapsed": true,
        "_uuid": "7b5d56dca52e522e97d8789d143a1e73b45f3417",
        "_cell_guid": "fe692c44-3d2b-45dd-ab57-ad9e936ca42c",
        "trusted": true
      },
      "cell_type": "code",
      "source": "def get_deltatime(df):\n    GROUP_BY_NEXT_CLICKS = [\n        {'groupby': ['ip','device','os']},\n       ]\n\n    # Calculate the time to next click for each group\n    for spec in GROUP_BY_NEXT_CLICKS:\n\n        # Name of new feature\n        new_feature = '{}_nextClick'.format('_'.join(spec['groupby']))    \n\n        # Unique list of features to select\n        all_features = spec['groupby'] + ['click_time']\n\n        # Run calculation\n        print(f\">> Grouping by {spec['groupby']}, and saving time to next click in: {new_feature}\")\n        df[new_feature] = df.groupby(spec['groupby']).click_time.transform(lambda x: x.diff().shift(-1)).dt.seconds\n        \n    df.drop(['click_time'],axis=1,inplace=True)\n    return df",
      "execution_count": 17,
      "outputs": []
    },
    {
      "metadata": {
        "_uuid": "4ea088a55e84825128f8ace75fbe75fee79e257c",
        "_cell_guid": "1fd9d96d-36af-4725-8285-cf64c6ef0fe8",
        "trusted": true
      },
      "cell_type": "code",
      "source": "gc.collect()",
      "execution_count": 19,
      "outputs": [
        {
          "output_type": "execute_result",
          "execution_count": 19,
          "data": {
            "text/plain": "0"
          },
          "metadata": {}
        }
      ]
    },
    {
      "metadata": {
        "collapsed": true,
        "_uuid": "b09e3ccff8f39391c36c2d53ae7a37ada3b41c20",
        "_cell_guid": "d6886df8-78c2-4be4-b9cd-8d727f67b767",
        "trusted": true
      },
      "cell_type": "code",
      "source": "test.reset_index(inplace=True,drop=True)\n",
      "execution_count": 18,
      "outputs": []
    },
    {
      "metadata": {
        "collapsed": true,
        "_uuid": "7a8a220312ca1ad88a38bc80a0a65c900f270b7c",
        "_cell_guid": "b55a641c-2f07-4a5b-aaef-7b1769bbfb4b",
        "trusted": true
      },
      "cell_type": "code",
      "source": "\nx_train=train[:47715243]\ny_train=Y[:47715243]\nx_valid=train[47715243:]\ny_valid=Y[47715243:]",
      "execution_count": 20,
      "outputs": []
    },
    {
      "metadata": {
        "_uuid": "0ff5ee883d12d345c613965323384df5162e2611",
        "_cell_guid": "bd0e8a93-36dd-4a9e-bf26-a23cb43a787c",
        "trusted": true
      },
      "cell_type": "code",
      "source": "x_train.shape,x_valid.shape,y_train.shape,y_valid.shape",
      "execution_count": 21,
      "outputs": [
        {
          "output_type": "execute_result",
          "execution_count": 21,
          "data": {
            "text/plain": "((47715243, 11), (5301694, 11), (47715243,), (5301694,))"
          },
          "metadata": {}
        }
      ]
    },
    {
      "metadata": {
        "_uuid": "0edba0a14e213a507153721759043dea689d8b27",
        "_cell_guid": "f4a282bf-10eb-4d27-9305-0498c9cfd416",
        "scrolled": false,
        "trusted": true
      },
      "cell_type": "code",
      "source": "%%time\nx_train=get_deltatime(x_train)",
      "execution_count": null,
      "outputs": [
        {
          "output_type": "stream",
          "text": ">> Grouping by ['ip', 'device', 'os'], and saving time to next click in: ip_device_os_nextClick\n",
          "name": "stdout"
        }
      ]
    },
    {
      "metadata": {
        "_cell_guid": "1767746f-7ecc-4c3f-a110-8125b8cd325d",
        "_uuid": "7e9e08831c32ad015b1be6c134671552ce59568c",
        "scrolled": true,
        "trusted": true,
        "collapsed": true
      },
      "cell_type": "code",
      "source": "%%time\nx_valid=get_deltatime(x_valid)",
      "execution_count": null,
      "outputs": []
    },
    {
      "metadata": {
        "collapsed": true,
        "_uuid": "c4d8dd77e87afc1985d3359080a82bb06ad96613",
        "_cell_guid": "b8851243-f215-4637-a9e0-abd732e20c12",
        "trusted": true
      },
      "cell_type": "code",
      "source": "x_train.drop(['ip'],axis=1,inplace=True)\nx_valid.drop(['ip'],axis=1,inplace=True)\ngc.collect()",
      "execution_count": null,
      "outputs": []
    },
    {
      "metadata": {
        "collapsed": true,
        "_uuid": "7e49419ffe713119f2b63bb44a9cd499aeb689e9",
        "_cell_guid": "bc207485-0533-4ba8-9b09-32d9b463128b",
        "trusted": true
      },
      "cell_type": "code",
      "source": "    \ndtrain = lgbm.Dataset(x_train, label=y_train)\ndvalid = lgbm.Dataset(x_valid, label=y_valid)",
      "execution_count": null,
      "outputs": []
    },
    {
      "metadata": {
        "collapsed": true,
        "_uuid": "d94358e2e27d65c03442e0f849b1f2466187362a",
        "_cell_guid": "d58e8909-a92f-4150-a907-c7ab6a1dddea",
        "trusted": true
      },
      "cell_type": "code",
      "source": "del x_train,x_valid,y_train,y_valid",
      "execution_count": null,
      "outputs": []
    },
    {
      "metadata": {
        "_uuid": "6dd7f4acaa02035796d3b81d424298458fa88d27",
        "_cell_guid": "8496f0db-c954-4a3d-980d-e7d06a056af3",
        "trusted": true,
        "collapsed": true
      },
      "cell_type": "code",
      "source": "gc.collect()",
      "execution_count": null,
      "outputs": []
    },
    {
      "metadata": {
        "_cell_guid": "844352a7-fc10-4396-b640-24640da7e923",
        "collapsed": true,
        "_uuid": "6a615ca7e68be8f992db287fda121342f2d6f3aa",
        "scrolled": true,
        "trusted": true
      },
      "cell_type": "code",
      "source": "\nparams = {\n    'boosting_type': 'gbdt',\n    'objective': 'binary',\n    'metric': 'auc',\n    'learning_rate': 0.1,\n    'num_leaves':15,  \n    'max_depth': 4,\n    #'scale_pos_weight': 99.7\n    }\n\n\nevals_results = {}\n\nprint(\"Training the model...\")\n\nlgb_model = lgbm.train(params, dtrain,valid_sets=[dtrain, dvalid], \n                 valid_names=['train','valid'], \n                 evals_result=evals_results, \n                 num_boost_round=200)",
      "execution_count": null,
      "outputs": []
    },
    {
      "metadata": {
        "collapsed": true,
        "_uuid": "9636b4296bac774d255425af463a29ead42ec7d3",
        "_cell_guid": "9e71cd7f-4312-41d1-ba47-1b7cb5d31134",
        "trusted": false
      },
      "cell_type": "code",
      "source": "print('Feature names:', lgb_model.feature_name())\nprint('Feature importances:', list(lgb_model.feature_importance()))\n",
      "execution_count": null,
      "outputs": []
    },
    {
      "metadata": {
        "collapsed": true,
        "_uuid": "422f36f45ae5b11681e9ff4f860a5d704e916db0",
        "_cell_guid": "ffffdd77-024f-4946-bfa2-b047b699f3a4",
        "trusted": false
      },
      "cell_type": "code",
      "source": "submit = pd.read_csv(path_test, dtype='int', usecols=['click_id'])\nsubmit['is_attributed'] = lgb_model.predict(test[predictors], num_iteration=lgb_model.best_iteration)\nsubmit.to_csv('submission.csv', index=False)\n",
      "execution_count": null,
      "outputs": []
    },
    {
      "metadata": {
        "collapsed": true,
        "_uuid": "c9a137dca7851b96f8434551eaf3cb4eb4771c71",
        "_cell_guid": "e446331d-4998-45cd-85f3-571e1a99caa2",
        "trusted": false
      },
      "cell_type": "code",
      "source": "\ndel train\ndel val\ngc.collect()\n",
      "execution_count": null,
      "outputs": []
    }
  ],
  "metadata": {
    "kernelspec": {
      "display_name": "Python 3",
      "language": "python",
      "name": "python3"
    },
    "language_info": {
      "name": "python",
      "version": "3.6.4",
      "mimetype": "text/x-python",
      "codemirror_mode": {
        "name": "ipython",
        "version": 3
      },
      "pygments_lexer": "ipython3",
      "nbconvert_exporter": "python",
      "file_extension": ".py"
    }
  },
  "nbformat": 4,
  "nbformat_minor": 1
}