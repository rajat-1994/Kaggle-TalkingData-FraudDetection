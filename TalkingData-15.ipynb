{
  "cells": [
    {
      "metadata": {
        "_cell_guid": "b1076dfc-b9ad-4769-8c92-a6c4dae69d19",
        "_uuid": "8f2839f25d086af736a60e9eeb907d3b93b6e0e5",
        "trusted": true
      },
      "cell_type": "code",
      "source": "# This Python 3 environment comes with many helpful analytics libraries installed\n# It is defined by the kaggle/python docker image: https://github.com/kaggle/docker-python\n# For example, here's several helpful packages to load in \n\n\nimport gc\nimport time\nimport numpy as np\nimport pandas as pd\nfrom sklearn.cross_validation import train_test_split\nimport lightgbm as lgbm\nfrom xgboost import plot_importance\nimport matplotlib.pyplot as plt\n# Input data files are available in the \"../input/\" directory.\n# For example, running this (by clicking run or pressing Shift+Enter) will list the files in the input directory\n\nimport os\nprint(os.listdir(\"../input\"))\n\n# Any results you write to the current directory are saved as output.",
      "execution_count": 12,
      "outputs": [
        {
          "output_type": "stream",
          "text": "['test_supplement.csv', 'train.csv', 'test.csv', 'sample_submission.csv', 'train_sample.csv']\n",
          "name": "stdout"
        }
      ]
    },
    {
      "metadata": {
        "_cell_guid": "79c7e3d0-c299-4dcb-8224-4455121ee9b0",
        "_uuid": "d629ff2d2480ee46fbb7e2d37f6b5fab8052498a",
        "scrolled": true,
        "collapsed": true,
        "trusted": true
      },
      "cell_type": "code",
      "source": "is_valid = False\n\npath = '../input/'\n\ntrain_columns = ['ip', 'app', 'device', 'os', 'channel', 'click_time', 'is_attributed']\ntest_columns  = ['ip', 'app', 'device', 'os', 'channel', 'click_time']\ndtypes = {\n        'ip'            : 'uint32',\n        'app'           : 'uint16',\n        'device'        : 'uint16',\n        'os'            : 'uint16',\n        'channel'       : 'uint16',\n        'is_attributed' : 'uint8',\n        'click_id'      : 'uint32'\n        }\n\n# Read the last lines because they are more impacting in training than the starting lines\ntrain = pd.read_csv(path+\"train.csv\", skiprows=range(1,131886954), nrows=53016937, usecols=train_columns, dtype=dtypes)\ntest = pd.read_csv(path+\"test.csv\", usecols=test_columns, dtype=dtypes)\n",
      "execution_count": 2,
      "outputs": []
    },
    {
      "metadata": {
        "_cell_guid": "6fb4b230-4bd4-4de6-ba58-0d3cd4ecd6c0",
        "collapsed": true,
        "_uuid": "eb9e0a62b92300d70c34deafde1a1a468d437351",
        "trusted": false
      },
      "cell_type": "code",
      "source": "test.head()",
      "execution_count": null,
      "outputs": []
    },
    {
      "metadata": {
        "_cell_guid": "8ac6d470-3d6d-444e-b128-a471545dad03",
        "collapsed": true,
        "_uuid": "e797d776dce96766e9cd57bd3d903ed66605adec",
        "trusted": true
      },
      "cell_type": "code",
      "source": "Y=train.is_attributed\ntrain.drop('is_attributed',axis=1,inplace=True)",
      "execution_count": 3,
      "outputs": []
    },
    {
      "metadata": {
        "_cell_guid": "77381b73-2e0f-45dd-8125-c41a00cf98f8",
        "collapsed": true,
        "_uuid": "aa2b45f563a1ea1279c290cd04f9d58079ad3532",
        "trusted": true
      },
      "cell_type": "code",
      "source": "def timeFeatures(df):\n    # Make some new features with click_time column\n    df['datetime'] = pd.to_datetime(df['click_time'])\n    df['dow']      = df['datetime'].dt.dayofweek\n    df[\"hour\"]      = df[\"datetime\"].dt.hour\n    #df[\"dteom\"]    = df[\"datetime\"].dt.daysinmonth - df[\"datetime\"].dt.day\n    df.drop(['click_time', 'datetime'], axis=1, inplace=True)\n    return df\n",
      "execution_count": 4,
      "outputs": []
    },
    {
      "metadata": {
        "_cell_guid": "4ef5c053-2523-4577-9588-1808c73b750d",
        "collapsed": true,
        "_uuid": "0d88a5941727a50b396f072a833b3f4ecfcfa64c",
        "trusted": true
      },
      "cell_type": "code",
      "source": "nrow_train = train.shape[0]\nmerge = pd.concat([train, test])\n",
      "execution_count": 5,
      "outputs": []
    },
    {
      "metadata": {
        "_cell_guid": "0a89d478-8074-4d4a-9542-d411dd749f81",
        "_uuid": "b72b2a67c0e2d8a30c039e7ee94eb865017e68c9",
        "trusted": true,
        "scrolled": true
      },
      "cell_type": "code",
      "source": "%%time\n\n#del train, test\ngc.collect()\n\n# Count the number of clicks by ip\nip_count = merge.groupby(['ip'])['channel'].count().reset_index()\nip_count.columns = ['ip', 'clicks_by_ip']\nmerge = pd.merge(merge, ip_count, on='ip', how='left', sort=False)\nmerge['clicks_by_ip'] = merge['clicks_by_ip'].astype('uint16')\nmerge.drop('ip', axis=1, inplace=True)\ndel ip_count\nprint('ip done')\n# Count the number of os by ip\nip_count = merge.groupby(['channel'])['os'].count().reset_index()\nip_count.columns = ['channel', 'clicks_by_channel']\nmerge = pd.merge(merge, ip_count, on='channel', how='left', sort=False)\nmerge['clicks_by_channel'] = merge['clicks_by_channel'].astype('uint16')\n#merge.drop('channel', axis=1, inplace=True)\ndel ip_count\nprint('channel done')\n\nip_count = merge.groupby(['os'])['channel'].count().reset_index()\nip_count.columns = ['os', 'clicks_by_os']\nmerge = pd.merge(merge, ip_count, on='os', how='left', sort=False)\nmerge['clicks_by_os'] = merge['clicks_by_os'].astype('uint16')\n#merge.drop('os', axis=1, inplace=True)\ndel ip_count\nprint('os done')\nip_count = merge.groupby(['app'])['channel'].count().reset_index()\nip_count.columns = ['app', 'clicks_by_app']\nmerge = pd.merge(merge, ip_count, on='app', how='left', sort=False)\nmerge['clicks_by_app'] = merge['clicks_by_app'].astype('uint16')\n#merge.drop('app', axis=1, inplace=True)\ndel ip_count\n\nprint('app done')\n\ntrain = merge[:nrow_train]\ntest = merge[nrow_train:]\n\n#del ip_count,merge\n#gc.collect()",
      "execution_count": 6,
      "outputs": [
        {
          "output_type": "stream",
          "text": "ip done\nchannel done\nos done\napp done\nCPU times: user 2min 9s, sys: 2min 29s, total: 4min 39s\nWall time: 2min 30s\n",
          "name": "stdout"
        }
      ]
    },
    {
      "metadata": {
        "_cell_guid": "16bec276-ebb6-4248-8eb2-e65f76fa3a36",
        "_uuid": "8915c9f9df72c9b140719ab9070f1d558d599ffd",
        "trusted": true
      },
      "cell_type": "code",
      "source": "del merge\ngc.collect()",
      "execution_count": 7,
      "outputs": [
        {
          "output_type": "execute_result",
          "execution_count": 7,
          "data": {
            "text/plain": "890"
          },
          "metadata": {}
        }
      ]
    },
    {
      "metadata": {
        "_cell_guid": "45b92d49-5efd-4892-adf1-cf234389c584",
        "collapsed": true,
        "_uuid": "cf2d645426ccfa9442108e23dd9328c82c676a4d",
        "trusted": true
      },
      "cell_type": "code",
      "source": "test=timeFeatures(test)",
      "execution_count": 8,
      "outputs": []
    },
    {
      "metadata": {
        "_cell_guid": "642a9ca3-af71-4064-bb52-a52a43c31fa2",
        "collapsed": true,
        "_uuid": "23a4ba378ab303e2402addc648794408133ea189",
        "trusted": true
      },
      "cell_type": "code",
      "source": "train=timeFeatures(train)\n",
      "execution_count": 9,
      "outputs": []
    },
    {
      "metadata": {
        "_cell_guid": "e02b4eff-1de9-4816-abae-bed7a34da202",
        "_uuid": "84b9414f72ef18310d483a8868a22a49745d52e4",
        "trusted": true
      },
      "cell_type": "code",
      "source": "train.head()",
      "execution_count": 10,
      "outputs": [
        {
          "output_type": "execute_result",
          "execution_count": 10,
          "data": {
            "text/plain": "   app  device  os  channel  clicks_by_ip  clicks_by_channel  clicks_by_os  \\\n0   11       1  13      487           973              22788         40127   \n1    2       1  13      469          1115              20075         40127   \n2   26       1  19      477          1079              35638         29757   \n3   18       1   8      121          2211              65389           193   \n4   12       1  19      265         11980              17596         29757   \n\n   clicks_by_app  dow  hour  \n0          48238    3     0  \n1          59188    3     0  \n2           2827    3     0  \n3          11842    3     0  \n4           4903    3     0  ",
            "text/html": "<div>\n<style scoped>\n    .dataframe tbody tr th:only-of-type {\n        vertical-align: middle;\n    }\n\n    .dataframe tbody tr th {\n        vertical-align: top;\n    }\n\n    .dataframe thead th {\n        text-align: right;\n    }\n</style>\n<table border=\"1\" class=\"dataframe\">\n  <thead>\n    <tr style=\"text-align: right;\">\n      <th></th>\n      <th>app</th>\n      <th>device</th>\n      <th>os</th>\n      <th>channel</th>\n      <th>clicks_by_ip</th>\n      <th>clicks_by_channel</th>\n      <th>clicks_by_os</th>\n      <th>clicks_by_app</th>\n      <th>dow</th>\n      <th>hour</th>\n    </tr>\n  </thead>\n  <tbody>\n    <tr>\n      <th>0</th>\n      <td>11</td>\n      <td>1</td>\n      <td>13</td>\n      <td>487</td>\n      <td>973</td>\n      <td>22788</td>\n      <td>40127</td>\n      <td>48238</td>\n      <td>3</td>\n      <td>0</td>\n    </tr>\n    <tr>\n      <th>1</th>\n      <td>2</td>\n      <td>1</td>\n      <td>13</td>\n      <td>469</td>\n      <td>1115</td>\n      <td>20075</td>\n      <td>40127</td>\n      <td>59188</td>\n      <td>3</td>\n      <td>0</td>\n    </tr>\n    <tr>\n      <th>2</th>\n      <td>26</td>\n      <td>1</td>\n      <td>19</td>\n      <td>477</td>\n      <td>1079</td>\n      <td>35638</td>\n      <td>29757</td>\n      <td>2827</td>\n      <td>3</td>\n      <td>0</td>\n    </tr>\n    <tr>\n      <th>3</th>\n      <td>18</td>\n      <td>1</td>\n      <td>8</td>\n      <td>121</td>\n      <td>2211</td>\n      <td>65389</td>\n      <td>193</td>\n      <td>11842</td>\n      <td>3</td>\n      <td>0</td>\n    </tr>\n    <tr>\n      <th>4</th>\n      <td>12</td>\n      <td>1</td>\n      <td>19</td>\n      <td>265</td>\n      <td>11980</td>\n      <td>17596</td>\n      <td>29757</td>\n      <td>4903</td>\n      <td>3</td>\n      <td>0</td>\n    </tr>\n  </tbody>\n</table>\n</div>"
          },
          "metadata": {}
        }
      ]
    },
    {
      "metadata": {
        "_cell_guid": "34de876a-af1a-49dd-a40c-3f649edb7c9b",
        "_uuid": "3cc7ec9e16bf19949f2c00ebb0687c6051a79ef3",
        "trusted": true
      },
      "cell_type": "code",
      "source": "test.head()",
      "execution_count": 11,
      "outputs": [
        {
          "output_type": "execute_result",
          "execution_count": 11,
          "data": {
            "text/plain": "          app  device  os  channel  clicks_by_ip  clicks_by_channel  \\\n53016937    9       1   3      107           469              40721   \n53016938    9       1   3      466          7918              21138   \n53016939   21       1  19      128          5719              22225   \n53016940   15       1  13      111          4513              31367   \n53016941   12       1  13      328           583              30346   \n\n          clicks_by_os  clicks_by_app  dow  hour  \n53016937         26647          42174    4     4  \n53016938         26647          42174    4     4  \n53016939         29757          32857    4     4  \n53016940         40127          54851    4     4  \n53016941         40127           4903    4     4  ",
            "text/html": "<div>\n<style scoped>\n    .dataframe tbody tr th:only-of-type {\n        vertical-align: middle;\n    }\n\n    .dataframe tbody tr th {\n        vertical-align: top;\n    }\n\n    .dataframe thead th {\n        text-align: right;\n    }\n</style>\n<table border=\"1\" class=\"dataframe\">\n  <thead>\n    <tr style=\"text-align: right;\">\n      <th></th>\n      <th>app</th>\n      <th>device</th>\n      <th>os</th>\n      <th>channel</th>\n      <th>clicks_by_ip</th>\n      <th>clicks_by_channel</th>\n      <th>clicks_by_os</th>\n      <th>clicks_by_app</th>\n      <th>dow</th>\n      <th>hour</th>\n    </tr>\n  </thead>\n  <tbody>\n    <tr>\n      <th>53016937</th>\n      <td>9</td>\n      <td>1</td>\n      <td>3</td>\n      <td>107</td>\n      <td>469</td>\n      <td>40721</td>\n      <td>26647</td>\n      <td>42174</td>\n      <td>4</td>\n      <td>4</td>\n    </tr>\n    <tr>\n      <th>53016938</th>\n      <td>9</td>\n      <td>1</td>\n      <td>3</td>\n      <td>466</td>\n      <td>7918</td>\n      <td>21138</td>\n      <td>26647</td>\n      <td>42174</td>\n      <td>4</td>\n      <td>4</td>\n    </tr>\n    <tr>\n      <th>53016939</th>\n      <td>21</td>\n      <td>1</td>\n      <td>19</td>\n      <td>128</td>\n      <td>5719</td>\n      <td>22225</td>\n      <td>29757</td>\n      <td>32857</td>\n      <td>4</td>\n      <td>4</td>\n    </tr>\n    <tr>\n      <th>53016940</th>\n      <td>15</td>\n      <td>1</td>\n      <td>13</td>\n      <td>111</td>\n      <td>4513</td>\n      <td>31367</td>\n      <td>40127</td>\n      <td>54851</td>\n      <td>4</td>\n      <td>4</td>\n    </tr>\n    <tr>\n      <th>53016941</th>\n      <td>12</td>\n      <td>1</td>\n      <td>13</td>\n      <td>328</td>\n      <td>583</td>\n      <td>30346</td>\n      <td>40127</td>\n      <td>4903</td>\n      <td>4</td>\n      <td>4</td>\n    </tr>\n  </tbody>\n</table>\n</div>"
          },
          "metadata": {}
        }
      ]
    },
    {
      "metadata": {
        "trusted": true,
        "_uuid": "c0052bd207d5b32cc1e3c8640d462fbd4477e49f"
      },
      "cell_type": "code",
      "source": "train.tail()",
      "execution_count": 15,
      "outputs": [
        {
          "output_type": "execute_result",
          "execution_count": 15,
          "data": {
            "text/plain": "          app  device  os  channel  clicks_by_ip  clicks_by_channel  \\\n53016932   12       1  10      340          1270              45951   \n53016933    3       1  19      211          2782                245   \n53016934    1       1  13      274           493               5670   \n53016935   12       1  37      259           871              65217   \n53016936   11       1  19      137          8275              23245   \n\n          clicks_by_os  clicks_by_app  dow  hour  \n53016932         29344           4903    3    16  \n53016933         29757           6979    3    16  \n53016934         40127          30300    3    16  \n53016935         37281           4903    3    16  \n53016936         29757          48238    3    16  ",
            "text/html": "<div>\n<style scoped>\n    .dataframe tbody tr th:only-of-type {\n        vertical-align: middle;\n    }\n\n    .dataframe tbody tr th {\n        vertical-align: top;\n    }\n\n    .dataframe thead th {\n        text-align: right;\n    }\n</style>\n<table border=\"1\" class=\"dataframe\">\n  <thead>\n    <tr style=\"text-align: right;\">\n      <th></th>\n      <th>app</th>\n      <th>device</th>\n      <th>os</th>\n      <th>channel</th>\n      <th>clicks_by_ip</th>\n      <th>clicks_by_channel</th>\n      <th>clicks_by_os</th>\n      <th>clicks_by_app</th>\n      <th>dow</th>\n      <th>hour</th>\n    </tr>\n  </thead>\n  <tbody>\n    <tr>\n      <th>53016932</th>\n      <td>12</td>\n      <td>1</td>\n      <td>10</td>\n      <td>340</td>\n      <td>1270</td>\n      <td>45951</td>\n      <td>29344</td>\n      <td>4903</td>\n      <td>3</td>\n      <td>16</td>\n    </tr>\n    <tr>\n      <th>53016933</th>\n      <td>3</td>\n      <td>1</td>\n      <td>19</td>\n      <td>211</td>\n      <td>2782</td>\n      <td>245</td>\n      <td>29757</td>\n      <td>6979</td>\n      <td>3</td>\n      <td>16</td>\n    </tr>\n    <tr>\n      <th>53016934</th>\n      <td>1</td>\n      <td>1</td>\n      <td>13</td>\n      <td>274</td>\n      <td>493</td>\n      <td>5670</td>\n      <td>40127</td>\n      <td>30300</td>\n      <td>3</td>\n      <td>16</td>\n    </tr>\n    <tr>\n      <th>53016935</th>\n      <td>12</td>\n      <td>1</td>\n      <td>37</td>\n      <td>259</td>\n      <td>871</td>\n      <td>65217</td>\n      <td>37281</td>\n      <td>4903</td>\n      <td>3</td>\n      <td>16</td>\n    </tr>\n    <tr>\n      <th>53016936</th>\n      <td>11</td>\n      <td>1</td>\n      <td>19</td>\n      <td>137</td>\n      <td>8275</td>\n      <td>23245</td>\n      <td>29757</td>\n      <td>48238</td>\n      <td>3</td>\n      <td>16</td>\n    </tr>\n  </tbody>\n</table>\n</div>"
          },
          "metadata": {}
        }
      ]
    },
    {
      "metadata": {
        "trusted": true,
        "_uuid": "089d288428e0103e6611a578455a1b6402ad1abd"
      },
      "cell_type": "code",
      "source": "x_valid=train[:52486768]\ny_valid=Y[:52486768]\nx_train=train[52486768:]\ny_train=Y[52486768:]",
      "execution_count": 29,
      "outputs": []
    },
    {
      "metadata": {
        "trusted": true,
        "_uuid": "f92f0672ea688c75f04b4180a0a3d27cf2cc8ca4"
      },
      "cell_type": "code",
      "source": "x_train.shape,x_valid.shape,y_train.shape,y_valid.shape",
      "execution_count": 31,
      "outputs": [
        {
          "output_type": "execute_result",
          "execution_count": 31,
          "data": {
            "text/plain": "((530169, 10), (52486768, 10), (530169,), (52486768,))"
          },
          "metadata": {}
        }
      ]
    },
    {
      "metadata": {
        "trusted": true,
        "_uuid": "2f82b1651cd0bccf54683550231a7166db403b03"
      },
      "cell_type": "code",
      "source": "    \ndtrain = lgbm.Dataset(x_train, label=y_train)\ndvalid = lgbm.Dataset(x_valid, label=y_valid    )",
      "execution_count": 33,
      "outputs": []
    },
    {
      "metadata": {
        "trusted": true,
        "_uuid": "5fba5246cf67676926908a9e70dc265f59e90904"
      },
      "cell_type": "code",
      "source": "gc.collect()",
      "execution_count": 34,
      "outputs": [
        {
          "output_type": "execute_result",
          "execution_count": 34,
          "data": {
            "text/plain": "200"
          },
          "metadata": {}
        }
      ]
    },
    {
      "metadata": {
        "_cell_guid": "844352a7-fc10-4396-b640-24640da7e923",
        "_uuid": "6a615ca7e68be8f992db287fda121342f2d6f3aa",
        "trusted": true,
        "scrolled": true
      },
      "cell_type": "code",
      "source": "\nparams = {\n    'boosting_type': 'gbdt',\n    'objective': 'binary',\n    'metric': 'auc',\n    'learning_rate': 0.1,\n    'num_leaves':7,  \n    'max_depth': 4,\n    'scale_pos_weight': 99.7\n    }\n\n\nevals_results = {}\n\nprint(\"Training the model...\")\n\nlgb_model = lgbm.train(params, dtrain,valid_sets=[dtrain, dvalid], \n                 valid_names=['train','valid'], \n                 evals_result=evals_results, \n                 num_boost_round=500)",
      "execution_count": null,
      "outputs": [
        {
          "output_type": "stream",
          "text": "Training the model...\n",
          "name": "stdout"
        }
      ]
    },
    {
      "metadata": {
        "_cell_guid": "9e71cd7f-4312-41d1-ba47-1b7cb5d31134",
        "collapsed": true,
        "_uuid": "9636b4296bac774d255425af463a29ead42ec7d3",
        "trusted": false
      },
      "cell_type": "code",
      "source": "print('Feature names:', lgb_model.feature_name())\nprint('Feature importances:', list(lgb_model.feature_importance()))\n",
      "execution_count": null,
      "outputs": []
    },
    {
      "metadata": {
        "trusted": true,
        "collapsed": true,
        "_uuid": "8a324ffc96710465cbc8db50fde308da3f197ec7"
      },
      "cell_type": "code",
      "source": "submit = pd.read_csv(path_test, dtype='int', usecols=['click_id'])\nsubmit['is_attributed'] = lgb_model.predict(test[predictors], num_iteration=lgb_model.best_iteration)\nsubmit.to_csv('submission.csv', index=False)\n",
      "execution_count": null,
      "outputs": []
    },
    {
      "metadata": {
        "_cell_guid": "e446331d-4998-45cd-85f3-571e1a99caa2",
        "collapsed": true,
        "_uuid": "c9a137dca7851b96f8434551eaf3cb4eb4771c71",
        "trusted": false
      },
      "cell_type": "code",
      "source": "\ndel train\ndel val\ngc.collect()\n",
      "execution_count": null,
      "outputs": []
    }
  ],
  "metadata": {
    "language_info": {
      "name": "python",
      "version": "3.6.4",
      "mimetype": "text/x-python",
      "codemirror_mode": {
        "name": "ipython",
        "version": 3
      },
      "pygments_lexer": "ipython3",
      "nbconvert_exporter": "python",
      "file_extension": ".py"
    },
    "kernelspec": {
      "display_name": "Python 3",
      "language": "python",
      "name": "python3"
    }
  },
  "nbformat": 4,
  "nbformat_minor": 1
}