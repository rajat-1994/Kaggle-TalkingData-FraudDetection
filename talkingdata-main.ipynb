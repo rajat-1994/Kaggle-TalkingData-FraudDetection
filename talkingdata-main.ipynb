{
 "cells": [
  {
   "cell_type": "code",
   "execution_count": 1,
   "metadata": {
    "_cell_guid": "b1076dfc-b9ad-4769-8c92-a6c4dae69d19",
    "_uuid": "8f2839f25d086af736a60e9eeb907d3b93b6e0e5"
   },
   "outputs": [
    {
     "name": "stderr",
     "output_type": "stream",
     "text": [
      "/home/ubuntu/anaconda3/envs/tensorflow_p36/lib/python3.6/site-packages/matplotlib/__init__.py:1067: UserWarning: Duplicate key in file \"/home/ubuntu/.config/matplotlib/matplotlibrc\", line #2\n",
      "  (fname, cnt))\n",
      "/home/ubuntu/anaconda3/envs/tensorflow_p36/lib/python3.6/site-packages/matplotlib/__init__.py:1067: UserWarning: Duplicate key in file \"/home/ubuntu/.config/matplotlib/matplotlibrc\", line #3\n",
      "  (fname, cnt))\n",
      "/home/ubuntu/anaconda3/envs/tensorflow_p36/lib/python3.6/site-packages/sklearn/cross_validation.py:41: DeprecationWarning: This module was deprecated in version 0.18 in favor of the model_selection module into which all the refactored classes and functions are moved. Also note that the interface of the new CV iterators are different from that of this module. This module will be removed in 0.20.\n",
      "  \"This module will be removed in 0.20.\", DeprecationWarning)\n"
     ]
    }
   ],
   "source": [
    "# This Python 3 environment comes with many helpful analytics libraries installed\n",
    "# It is defined by the kaggle/python docker image: https://github.com/kaggle/docker-python\n",
    "# For example, here's several helpful packages to load in \n",
    "\n",
    "\n",
    "import gc\n",
    "import time\n",
    "import numpy as np\n",
    "import pandas as pd\n",
    "from sklearn.cross_validation import train_test_split\n",
    "import lightgbm as lgbm\n",
    "#from xgboost import plot_importance\n",
    "import matplotlib.pyplot as plt\n",
    "# Input data files are available in the \"../input/\" directory.\n",
    "# For example, running this (by clicking run or pressing Shift+Enter) will list the files in the input directory\n",
    "\n",
    "import os\n",
    "\n",
    "# Any results you write to the current directory are saved as output."
   ]
  },
  {
   "cell_type": "code",
   "execution_count": 2,
   "metadata": {
    "_cell_guid": "79c7e3d0-c299-4dcb-8224-4455121ee9b0",
    "_uuid": "d629ff2d2480ee46fbb7e2d37f6b5fab8052498a",
    "scrolled": true
   },
   "outputs": [
    {
     "name": "stdout",
     "output_type": "stream",
     "text": [
      "CPU times: user 1min 50s, sys: 3.53 s, total: 1min 54s\n",
      "Wall time: 1min 54s\n"
     ]
    }
   ],
   "source": [
    "%%time\n",
    "is_valid = False\n",
    "\n",
    "path=\"./mnt/ssd/kaggle-talkingdata2/competition_files/\"\n",
    "\n",
    "train_columns = ['ip', 'app', 'device', 'os', 'channel', 'click_time', 'is_attributed']\n",
    "#test_columns  = ['ip', 'app', 'device', 'os', 'channel', 'click_time']\n",
    "dtypes = {\n",
    "        'ip'            : 'uint32',\n",
    "        'app'           : 'uint16',\n",
    "        'device'        : 'uint16',\n",
    "        'os'            : 'uint16',\n",
    "        'channel'       : 'uint16',\n",
    "        'is_attributed' : 'uint8',\n",
    "        'click_id'      : 'uint32'\n",
    "        }\n",
    "\n",
    "# Read the last lines because they are more impacting in training than the starting lines\n",
    "##train = pd.read_csv(path+\"train.csv\", skiprows=range(1,131886954), nrows=53016937, usecols=train_columns, dtype=dtypes)\n",
    "train = pd.read_csv(path+\"train.csv\", skiprows=range(1,74903891), nrows=110000000, usecols=train_columns, dtype=dtypes)\n",
    "\n",
    "#valid = pd.read_csv(path+\"test.csv\", usecols=test_columns, dtype=dtypes)\n"
   ]
  },
  {
   "cell_type": "code",
   "execution_count": 3,
   "metadata": {},
   "outputs": [
    {
     "data": {
      "text/plain": [
       "7"
      ]
     },
     "execution_count": 3,
     "metadata": {},
     "output_type": "execute_result"
    }
   ],
   "source": [
    "\n",
    "gc.collect()"
   ]
  },
  {
   "cell_type": "code",
   "execution_count": null,
   "metadata": {
    "_cell_guid": "8ac6d470-3d6d-444e-b128-a471545dad03",
    "_uuid": "e797d776dce96766e9cd57bd3d903ed66605adec"
   },
   "outputs": [],
   "source": [
    "#Y=train.is_attributed\n",
    "#train.drop('is_attributed',axis=1,inplace=True)"
   ]
  },
  {
   "cell_type": "code",
   "execution_count": 4,
   "metadata": {
    "_cell_guid": "77381b73-2e0f-45dd-8125-c41a00cf98f8",
    "_uuid": "aa2b45f563a1ea1279c290cd04f9d58079ad3532"
   },
   "outputs": [],
   "source": [
    "def timeFeatures(df,colname):\n",
    "    # Make some new features with click_time column\n",
    "    df['datetime'] = pd.to_datetime(df[colname])\n",
    "    df['dow']      = df['datetime'].dt.dayofweek\n",
    "    df[\"hour\"]      = df['datetime'].dt.hour\n",
    "    #df[\"dteom\"]    = df[\"datetime\"].dt.daysinmonth - df[\"datetime\"].dt.day\n",
    "    df.drop(['datetime'], axis=1, inplace=True)\n",
    "    return df\n"
   ]
  },
  {
   "cell_type": "code",
   "execution_count": 5,
   "metadata": {
    "_cell_guid": "f82c782c-ed49-4862-a983-4f530e872a9b",
    "_uuid": "7cce44bdbdd2a5c06353202a2a9a14d26b154f67"
   },
   "outputs": [
    {
     "name": "stdout",
     "output_type": "stream",
     "text": [
      "CPU times: user 41.8 s, sys: 3.64 s, total: 45.4 s\n",
      "Wall time: 44.8 s\n"
     ]
    }
   ],
   "source": [
    "%%time\n",
    "#valid=timeFeatures(valid)\n",
    "train=timeFeatures(train,'click_time')\n",
    "gc.collect()"
   ]
  },
  {
   "cell_type": "code",
   "execution_count": 6,
   "metadata": {
    "_cell_guid": "6fb4b230-4bd4-4de6-ba58-0d3cd4ecd6c0",
    "_uuid": "eb9e0a62b92300d70c34deafde1a1a468d437351"
   },
   "outputs": [
    {
     "data": {
      "text/html": [
       "<div>\n",
       "<style scoped>\n",
       "    .dataframe tbody tr th:only-of-type {\n",
       "        vertical-align: middle;\n",
       "    }\n",
       "\n",
       "    .dataframe tbody tr th {\n",
       "        vertical-align: top;\n",
       "    }\n",
       "\n",
       "    .dataframe thead th {\n",
       "        text-align: right;\n",
       "    }\n",
       "</style>\n",
       "<table border=\"1\" class=\"dataframe\">\n",
       "  <thead>\n",
       "    <tr style=\"text-align: right;\">\n",
       "      <th></th>\n",
       "      <th>ip</th>\n",
       "      <th>app</th>\n",
       "      <th>device</th>\n",
       "      <th>os</th>\n",
       "      <th>channel</th>\n",
       "      <th>click_time</th>\n",
       "      <th>is_attributed</th>\n",
       "      <th>dow</th>\n",
       "      <th>hour</th>\n",
       "    </tr>\n",
       "  </thead>\n",
       "  <tbody>\n",
       "    <tr>\n",
       "      <th>0</th>\n",
       "      <td>87242</td>\n",
       "      <td>24</td>\n",
       "      <td>1</td>\n",
       "      <td>40</td>\n",
       "      <td>178</td>\n",
       "      <td>2017-11-08 01:47:40</td>\n",
       "      <td>0</td>\n",
       "      <td>2</td>\n",
       "      <td>1</td>\n",
       "    </tr>\n",
       "    <tr>\n",
       "      <th>1</th>\n",
       "      <td>49565</td>\n",
       "      <td>12</td>\n",
       "      <td>1</td>\n",
       "      <td>9</td>\n",
       "      <td>259</td>\n",
       "      <td>2017-11-08 01:47:40</td>\n",
       "      <td>0</td>\n",
       "      <td>2</td>\n",
       "      <td>1</td>\n",
       "    </tr>\n",
       "    <tr>\n",
       "      <th>2</th>\n",
       "      <td>39785</td>\n",
       "      <td>9</td>\n",
       "      <td>1</td>\n",
       "      <td>13</td>\n",
       "      <td>244</td>\n",
       "      <td>2017-11-08 01:47:40</td>\n",
       "      <td>0</td>\n",
       "      <td>2</td>\n",
       "      <td>1</td>\n",
       "    </tr>\n",
       "    <tr>\n",
       "      <th>3</th>\n",
       "      <td>5348</td>\n",
       "      <td>3</td>\n",
       "      <td>1</td>\n",
       "      <td>18</td>\n",
       "      <td>280</td>\n",
       "      <td>2017-11-08 01:47:40</td>\n",
       "      <td>0</td>\n",
       "      <td>2</td>\n",
       "      <td>1</td>\n",
       "    </tr>\n",
       "    <tr>\n",
       "      <th>4</th>\n",
       "      <td>56516</td>\n",
       "      <td>9</td>\n",
       "      <td>1</td>\n",
       "      <td>17</td>\n",
       "      <td>466</td>\n",
       "      <td>2017-11-08 01:47:40</td>\n",
       "      <td>0</td>\n",
       "      <td>2</td>\n",
       "      <td>1</td>\n",
       "    </tr>\n",
       "  </tbody>\n",
       "</table>\n",
       "</div>"
      ],
      "text/plain": [
       "      ip  app  device  os  channel           click_time  is_attributed  dow  \\\n",
       "0  87242   24       1  40      178  2017-11-08 01:47:40              0    2   \n",
       "1  49565   12       1   9      259  2017-11-08 01:47:40              0    2   \n",
       "2  39785    9       1  13      244  2017-11-08 01:47:40              0    2   \n",
       "3   5348    3       1  18      280  2017-11-08 01:47:40              0    2   \n",
       "4  56516    9       1  17      466  2017-11-08 01:47:40              0    2   \n",
       "\n",
       "   hour  \n",
       "0     1  \n",
       "1     1  \n",
       "2     1  \n",
       "3     1  \n",
       "4     1  "
      ]
     },
     "execution_count": 6,
     "metadata": {},
     "output_type": "execute_result"
    }
   ],
   "source": [
    "train.head()"
   ]
  },
  {
   "cell_type": "code",
   "execution_count": null,
   "metadata": {
    "_cell_guid": "4ef5c053-2523-4577-9588-1808c73b750d",
    "_uuid": "0d88a5941727a50b396f072a833b3f4ecfcfa64c"
   },
   "outputs": [],
   "source": [
    "'''\n",
    "nrow_train = train.shape[0]\n",
    "merge = pd.concat([train, test])\n",
    "gc.collect()\n",
    "'''"
   ]
  },
  {
   "cell_type": "code",
   "execution_count": 7,
   "metadata": {},
   "outputs": [
    {
     "data": {
      "text/plain": [
       "((53016937, 9), (56983063, 9))"
      ]
     },
     "execution_count": 7,
     "metadata": {},
     "output_type": "execute_result"
    }
   ],
   "source": [
    "valid=pd.DataFrame()\n",
    "valid=train[train.dow==3]\n",
    "train=train[train.dow!=3]\n",
    "gc.collect()\n",
    "valid.shape,train.shape"
   ]
  },
  {
   "cell_type": "code",
   "execution_count": 8,
   "metadata": {},
   "outputs": [
    {
     "data": {
      "text/html": [
       "<div>\n",
       "<style scoped>\n",
       "    .dataframe tbody tr th:only-of-type {\n",
       "        vertical-align: middle;\n",
       "    }\n",
       "\n",
       "    .dataframe tbody tr th {\n",
       "        vertical-align: top;\n",
       "    }\n",
       "\n",
       "    .dataframe thead th {\n",
       "        text-align: right;\n",
       "    }\n",
       "</style>\n",
       "<table border=\"1\" class=\"dataframe\">\n",
       "  <thead>\n",
       "    <tr style=\"text-align: right;\">\n",
       "      <th></th>\n",
       "      <th>ip</th>\n",
       "      <th>app</th>\n",
       "      <th>device</th>\n",
       "      <th>os</th>\n",
       "      <th>channel</th>\n",
       "      <th>click_time</th>\n",
       "      <th>is_attributed</th>\n",
       "      <th>dow</th>\n",
       "      <th>hour</th>\n",
       "    </tr>\n",
       "  </thead>\n",
       "  <tbody>\n",
       "    <tr>\n",
       "      <th>0</th>\n",
       "      <td>87242</td>\n",
       "      <td>24</td>\n",
       "      <td>1</td>\n",
       "      <td>40</td>\n",
       "      <td>178</td>\n",
       "      <td>2017-11-08 01:47:40</td>\n",
       "      <td>0</td>\n",
       "      <td>2</td>\n",
       "      <td>1</td>\n",
       "    </tr>\n",
       "    <tr>\n",
       "      <th>1</th>\n",
       "      <td>49565</td>\n",
       "      <td>12</td>\n",
       "      <td>1</td>\n",
       "      <td>9</td>\n",
       "      <td>259</td>\n",
       "      <td>2017-11-08 01:47:40</td>\n",
       "      <td>0</td>\n",
       "      <td>2</td>\n",
       "      <td>1</td>\n",
       "    </tr>\n",
       "    <tr>\n",
       "      <th>2</th>\n",
       "      <td>39785</td>\n",
       "      <td>9</td>\n",
       "      <td>1</td>\n",
       "      <td>13</td>\n",
       "      <td>244</td>\n",
       "      <td>2017-11-08 01:47:40</td>\n",
       "      <td>0</td>\n",
       "      <td>2</td>\n",
       "      <td>1</td>\n",
       "    </tr>\n",
       "    <tr>\n",
       "      <th>3</th>\n",
       "      <td>5348</td>\n",
       "      <td>3</td>\n",
       "      <td>1</td>\n",
       "      <td>18</td>\n",
       "      <td>280</td>\n",
       "      <td>2017-11-08 01:47:40</td>\n",
       "      <td>0</td>\n",
       "      <td>2</td>\n",
       "      <td>1</td>\n",
       "    </tr>\n",
       "    <tr>\n",
       "      <th>4</th>\n",
       "      <td>56516</td>\n",
       "      <td>9</td>\n",
       "      <td>1</td>\n",
       "      <td>17</td>\n",
       "      <td>466</td>\n",
       "      <td>2017-11-08 01:47:40</td>\n",
       "      <td>0</td>\n",
       "      <td>2</td>\n",
       "      <td>1</td>\n",
       "    </tr>\n",
       "  </tbody>\n",
       "</table>\n",
       "</div>"
      ],
      "text/plain": [
       "      ip  app  device  os  channel           click_time  is_attributed  dow  \\\n",
       "0  87242   24       1  40      178  2017-11-08 01:47:40              0    2   \n",
       "1  49565   12       1   9      259  2017-11-08 01:47:40              0    2   \n",
       "2  39785    9       1  13      244  2017-11-08 01:47:40              0    2   \n",
       "3   5348    3       1  18      280  2017-11-08 01:47:40              0    2   \n",
       "4  56516    9       1  17      466  2017-11-08 01:47:40              0    2   \n",
       "\n",
       "   hour  \n",
       "0     1  \n",
       "1     1  \n",
       "2     1  \n",
       "3     1  \n",
       "4     1  "
      ]
     },
     "execution_count": 8,
     "metadata": {},
     "output_type": "execute_result"
    }
   ],
   "source": [
    "train.head()"
   ]
  },
  {
   "cell_type": "code",
   "execution_count": 11,
   "metadata": {
    "_cell_guid": "8fed1865-d000-47ee-8c4d-3eefc00e7fa7",
    "_uuid": "01b18566d2742f3af856ef619e5c7f452fef8885"
   },
   "outputs": [
    {
     "name": "stdout",
     "output_type": "stream",
     "text": [
      "CPU times: user 0 ns, sys: 0 ns, total: 0 ns\n",
      "Wall time: 10.5 µs\n"
     ]
    }
   ],
   "source": [
    "%%time\n",
    "###Experiment\n",
    "def get_feature_count(train_df,valid_df):\n",
    "    \n",
    "\n",
    "    nrow_train = train_df.shape[0]\n",
    "    df = pd.concat([train_df, valid_df])\n",
    "    gc.collect()\n",
    "\n",
    "    del train_df,valid_df\n",
    "    gc.collect()\n",
    "    \n",
    "    ip_count = df.groupby(['ip','device','os','app'])['channel'].count().reset_index()\n",
    "    ip_count.columns = ['ip','device','os','app', 'clicks_by_ip_os_device_app']\n",
    "    gc.collect()\n",
    "    df = pd.merge(df, ip_count, on=['ip','device','os','app'], how='left', sort=False)\n",
    "    #valid_df = pd.merge(valid_df, ip_count, on=['ip','device','os','app'], how='left', sort=False)\n",
    "    del ip_count\n",
    "    gc.collect()\n",
    "    print('done')\n",
    "    \n",
    "   \n",
    "    ip_count = df.groupby(['ip','device'])['channel'].count().reset_index()\n",
    "    ip_count.columns = ['ip','device','clicks_by_ip_device']\n",
    "    gc.collect()\n",
    "    df = pd.merge(df, ip_count, on=['ip','device'], how='left', sort=False)\n",
    "    #valid_df = pd.merge(valid_df, ip_count, on=['device','os','app'], how='left', sort=False)\n",
    "    #df['clicks_by_os_device_app'] = df['clicks_by_os_device_app'].astype('uint16')\n",
    "    #valid_df['clicks_by_os_device_app'] = valid_df['clicks_by_os_device_app'].astype('uint16')\n",
    "    del ip_count\n",
    "    gc.collect()\n",
    "    print('done')\n",
    "    \n",
    "    \n",
    "    ip_count = df.groupby(['ip','device','os'])['app'].agg(['count']).reset_index()\n",
    "    ip_count.columns = ['ip','device','os','count_app_by_iposdevice']\n",
    "    df = pd.merge(df, ip_count, on=['ip','device','os'], how='left', sort=False)\n",
    "    #valid_df = pd.merge(valid_df, ip_count, on=['ip','device','os'], how='left', sort=False)\n",
    "    del ip_count\n",
    "    gc.collect()\n",
    "\n",
    "    # Count the number of clicks by ip\n",
    "    ip_count = df.groupby(['ip'])['channel'].count().reset_index()\n",
    "    ip_count.columns = ['ip', 'clicks_by_ip']\n",
    "    gc.collect()\n",
    "    df = pd.merge(df, ip_count, on='ip', how='left', sort=False)\n",
    "    #valid_df = pd.merge(valid_df, ip_count, on='ip', how='left', sort=False)\n",
    "    #df['clicks_by_ip'] = df['clicks_by_ip'].astype('uint16')\n",
    "    #valid_df['clicks_by_ip'] = valid_df['clicks_by_ip'].astype('uint16')\n",
    "    del ip_count\n",
    "    gc.collect()\n",
    "    print('done')\n",
    "\n",
    "    ip_count = df.groupby(['ip','app'])['channel'].count().reset_index()\n",
    "    ip_count.columns = ['ip','app', 'clicks_by_ip_app']\n",
    "    gc.collect()\n",
    "    df = pd.merge(df, ip_count, on=['ip','app'], how='left', sort=False)\n",
    "    #df['clicks_by_ip_app'] = df['clicks_by_ip_app'].astype('uint16')\n",
    "    #valid_df = pd.merge(valid_df, ip_count, on=['ip','app'], how='left', sort=False)\n",
    "    #valid_df['clicks_by_ip_app'] = valid_df['clicks_by_ip_app'].astype('uint16')\n",
    "    del ip_count\n",
    "    gc.collect()\n",
    "    print('done')\n",
    "\n",
    "    ip_count = df.groupby(['ip','os'])['channel'].count().reset_index()\n",
    "    ip_count.columns = ['ip','os', 'clicks_by_ip_os']\n",
    "    df = pd.merge(df, ip_count, on=['ip','os'], how='left', sort=False)\n",
    "    #df['clicks_by_ip_os'] = df['clicks_by_ip_os'].astype('uint16')\n",
    "    #valid_df = pd.merge(valid_df, ip_count, on=['ip','os'], how='left', sort=False)\n",
    "    #valid_df['clicks_by_ip_os'] = valid_df['clicks_by_ip_os'].astype('uint16')\n",
    "    gc.collect()\n",
    "    del ip_count\n",
    "    \n",
    "\n",
    "    train_df = df[:nrow_train]\n",
    "    valid_df = df[nrow_train:]\n",
    "\n",
    "    del df\n",
    "    print('done')\n",
    "    #merge.drop('ip', axis=1, inplace=True)\n",
    "    gc.collect()\n",
    "    return train_df,valid_df\n"
   ]
  },
  {
   "cell_type": "code",
   "execution_count": 12,
   "metadata": {},
   "outputs": [
    {
     "name": "stdout",
     "output_type": "stream",
     "text": [
      "done\n",
      "done\n",
      "done\n",
      "done\n",
      "done\n",
      "(53016937, 15) (56983063, 15)\n",
      "CPU times: user 7min 39s, sys: 1min 17s, total: 8min 56s\n",
      "Wall time: 8min 56s\n"
     ]
    }
   ],
   "source": [
    "%%time\n",
    "gc.collect()\n",
    "train,valid=get_feature_count(train,valid)\n",
    "print(valid.shape,train.shape)"
   ]
  },
  {
   "cell_type": "code",
   "execution_count": 18,
   "metadata": {},
   "outputs": [
    {
     "data": {
      "text/html": [
       "<div>\n",
       "<style scoped>\n",
       "    .dataframe tbody tr th:only-of-type {\n",
       "        vertical-align: middle;\n",
       "    }\n",
       "\n",
       "    .dataframe tbody tr th {\n",
       "        vertical-align: top;\n",
       "    }\n",
       "\n",
       "    .dataframe thead th {\n",
       "        text-align: right;\n",
       "    }\n",
       "</style>\n",
       "<table border=\"1\" class=\"dataframe\">\n",
       "  <thead>\n",
       "    <tr style=\"text-align: right;\">\n",
       "      <th></th>\n",
       "      <th>ip</th>\n",
       "      <th>app</th>\n",
       "      <th>device</th>\n",
       "      <th>os</th>\n",
       "      <th>channel</th>\n",
       "      <th>click_time</th>\n",
       "      <th>is_attributed</th>\n",
       "      <th>dow</th>\n",
       "      <th>hour</th>\n",
       "      <th>clicks_by_ip_os_device_app</th>\n",
       "      <th>clicks_by_ip_device</th>\n",
       "      <th>count_app_by_iposdevice</th>\n",
       "      <th>clicks_by_ip</th>\n",
       "      <th>clicks_by_ip_app</th>\n",
       "      <th>clicks_by_ip_os</th>\n",
       "    </tr>\n",
       "  </thead>\n",
       "  <tbody>\n",
       "    <tr>\n",
       "      <th>0</th>\n",
       "      <td>87242</td>\n",
       "      <td>24</td>\n",
       "      <td>1</td>\n",
       "      <td>40</td>\n",
       "      <td>178</td>\n",
       "      <td>2017-11-08 01:47:40</td>\n",
       "      <td>0</td>\n",
       "      <td>2</td>\n",
       "      <td>1</td>\n",
       "      <td>1</td>\n",
       "      <td>963</td>\n",
       "      <td>12</td>\n",
       "      <td>970</td>\n",
       "      <td>30</td>\n",
       "      <td>12</td>\n",
       "    </tr>\n",
       "    <tr>\n",
       "      <th>1</th>\n",
       "      <td>49565</td>\n",
       "      <td>12</td>\n",
       "      <td>1</td>\n",
       "      <td>9</td>\n",
       "      <td>259</td>\n",
       "      <td>2017-11-08 01:47:40</td>\n",
       "      <td>0</td>\n",
       "      <td>2</td>\n",
       "      <td>1</td>\n",
       "      <td>14</td>\n",
       "      <td>408</td>\n",
       "      <td>37</td>\n",
       "      <td>408</td>\n",
       "      <td>71</td>\n",
       "      <td>37</td>\n",
       "    </tr>\n",
       "    <tr>\n",
       "      <th>2</th>\n",
       "      <td>39785</td>\n",
       "      <td>9</td>\n",
       "      <td>1</td>\n",
       "      <td>13</td>\n",
       "      <td>244</td>\n",
       "      <td>2017-11-08 01:47:40</td>\n",
       "      <td>0</td>\n",
       "      <td>2</td>\n",
       "      <td>1</td>\n",
       "      <td>152</td>\n",
       "      <td>5464</td>\n",
       "      <td>1388</td>\n",
       "      <td>5504</td>\n",
       "      <td>638</td>\n",
       "      <td>1404</td>\n",
       "    </tr>\n",
       "    <tr>\n",
       "      <th>3</th>\n",
       "      <td>5348</td>\n",
       "      <td>3</td>\n",
       "      <td>1</td>\n",
       "      <td>18</td>\n",
       "      <td>280</td>\n",
       "      <td>2017-11-08 01:47:40</td>\n",
       "      <td>0</td>\n",
       "      <td>2</td>\n",
       "      <td>1</td>\n",
       "      <td>5365</td>\n",
       "      <td>606118</td>\n",
       "      <td>28403</td>\n",
       "      <td>700322</td>\n",
       "      <td>120694</td>\n",
       "      <td>31202</td>\n",
       "    </tr>\n",
       "    <tr>\n",
       "      <th>4</th>\n",
       "      <td>56516</td>\n",
       "      <td>9</td>\n",
       "      <td>1</td>\n",
       "      <td>17</td>\n",
       "      <td>466</td>\n",
       "      <td>2017-11-08 01:47:40</td>\n",
       "      <td>0</td>\n",
       "      <td>2</td>\n",
       "      <td>1</td>\n",
       "      <td>14</td>\n",
       "      <td>3272</td>\n",
       "      <td>217</td>\n",
       "      <td>3320</td>\n",
       "      <td>319</td>\n",
       "      <td>217</td>\n",
       "    </tr>\n",
       "  </tbody>\n",
       "</table>\n",
       "</div>"
      ],
      "text/plain": [
       "      ip  app  device  os  channel           click_time  is_attributed  dow  \\\n",
       "0  87242   24       1  40      178  2017-11-08 01:47:40              0    2   \n",
       "1  49565   12       1   9      259  2017-11-08 01:47:40              0    2   \n",
       "2  39785    9       1  13      244  2017-11-08 01:47:40              0    2   \n",
       "3   5348    3       1  18      280  2017-11-08 01:47:40              0    2   \n",
       "4  56516    9       1  17      466  2017-11-08 01:47:40              0    2   \n",
       "\n",
       "   hour  clicks_by_ip_os_device_app  clicks_by_ip_device  \\\n",
       "0     1                           1                  963   \n",
       "1     1                          14                  408   \n",
       "2     1                         152                 5464   \n",
       "3     1                        5365               606118   \n",
       "4     1                          14                 3272   \n",
       "\n",
       "   count_app_by_iposdevice  clicks_by_ip  clicks_by_ip_app  clicks_by_ip_os  \n",
       "0                       12           970                30               12  \n",
       "1                       37           408                71               37  \n",
       "2                     1388          5504               638             1404  \n",
       "3                    28403        700322            120694            31202  \n",
       "4                      217          3320               319              217  "
      ]
     },
     "execution_count": 18,
     "metadata": {},
     "output_type": "execute_result"
    }
   ],
   "source": [
    "gc.collect()\n",
    "train.head()"
   ]
  },
  {
   "cell_type": "code",
   "execution_count": 20,
   "metadata": {
    "_uuid": "b1d8a8b67f5c85336a74b78b2a452f45723a9a24"
   },
   "outputs": [],
   "source": [
    "\n",
    "def get_feature_user(df,valid_df):\n",
    "        \n",
    "    ip_count = df.groupby(['ip','device','os'])['is_attributed'].agg(['mean']).reset_index()\n",
    "    ip_count.columns = ['ip','device','os', 'mean_attr_by_iposdevice']\n",
    "    df = pd.merge(df, ip_count, on=['ip','device','os'], how='left', sort=False)\n",
    "    valid_df = pd.merge(valid_df, ip_count, on=['ip','device','os'], how='left', sort=False)\n",
    "    del ip_count\n",
    "    gc.collect()\n",
    "    \n",
    "    agg_cols = ['device', 'app', 'channel','ip','os'];\n",
    "    for c in agg_cols:\n",
    "        gc.collect()\n",
    "        gp = df.groupby(c)['is_attributed']\n",
    "        mean = gp.mean()\n",
    "        gc.collect()\n",
    "        df[c + '_attr_avg'] = df[c].map(mean)\n",
    "        valid_df[c + '_attr_avg'] = valid_df[c].map(mean)\n",
    "        \n",
    "    \n",
    "    del mean,gp,agg_cols\n",
    "    gc.collect()\n",
    "    return df,valid_df\n",
    "    "
   ]
  },
  {
   "cell_type": "code",
   "execution_count": 21,
   "metadata": {},
   "outputs": [
    {
     "name": "stdout",
     "output_type": "stream",
     "text": [
      "(53016937, 21) (56983063, 21)\n",
      "CPU times: user 2min 41s, sys: 26.8 s, total: 3min 8s\n",
      "Wall time: 3min 8s\n"
     ]
    }
   ],
   "source": [
    "%%time\n",
    "train,valid=get_feature_user(train,valid)\n",
    "print(valid.shape,train.shape)"
   ]
  },
  {
   "cell_type": "code",
   "execution_count": null,
   "metadata": {
    "_cell_guid": "cb24eef3-f8f4-4888-b156-82423ac761f1",
    "_uuid": "6dece8f17395aeca9a2a9e812171c9311ca6719e"
   },
   "outputs": [],
   "source": [
    "'''\n",
    "%%time\n",
    "ip_count = merge.groupby(['ip','dow','hour'])['channel'].count().reset_index()\n",
    "ip_count.columns = ['ip','dow','hour','clicks_by_ip_dow_hour']\n",
    "merge = pd.merge(merge, ip_count, on=['ip','dow','hour'], how='left', sort=False)\n",
    "merge['clicks_by_ip_dow_hour'] = merge['clicks_by_ip_dow_hour'].astype('uint16')\n",
    "del ip_count\n",
    "gc.collect()\n",
    "\n",
    "'''"
   ]
  },
  {
   "cell_type": "code",
   "execution_count": null,
   "metadata": {
    "_cell_guid": "0a89d478-8074-4d4a-9542-d411dd749f81",
    "_uuid": "b72b2a67c0e2d8a30c039e7ee94eb865017e68c9",
    "scrolled": true
   },
   "outputs": [],
   "source": [
    "'''\n",
    "%%time\n",
    "\n",
    "# Count the number of os by ip\n",
    "ip_count = merge.groupby(['channel'])['os'].count().reset_index()\n",
    "ip_count.columns = ['channel', 'clicks_by_channel']\n",
    "merge = pd.merge(merge, ip_count, on='channel', how='left', sort=False)\n",
    "merge['clicks_by_channel'] = merge['clicks_by_channel'].astype('uint16')\n",
    "#merge.drop('channel', axis=1, inplace=True)\n",
    "del ip_count\n",
    "print('channel done')\n",
    "\n",
    "ip_count = merge.groupby(['os'])['channel'].count().reset_index()\n",
    "ip_count.columns = ['os', 'clicks_by_os']\n",
    "merge = pd.merge(merge, ip_count, on='os', how='left', sort=False)\n",
    "merge['clicks_by_os'] = merge['clicks_by_os'].astype('uint16')\n",
    "#merge.drop('os', axis=1, inplace=True)\n",
    "del ip_count\n",
    "print('os done')\n",
    "gc.collect()\n",
    "\n",
    "ip_count = merge.groupby(['app'])['channel'].count().reset_index()\n",
    "ip_count.columns = ['app', 'clicks_by_app']\n",
    "merge = pd.merge(merge, ip_count, on='app', how='left', sort=False)\n",
    "merge['clicks_by_app'] = merge['clicks_by_app'].astype('uint16')\n",
    "#merge.drop('app', axis=1, inplace=True)\n",
    "del ip_count\n",
    "\n",
    "print('app done')\n",
    "#del ip_count,merge\n",
    "#gc.collect()\n",
    "'''"
   ]
  },
  {
   "cell_type": "code",
   "execution_count": null,
   "metadata": {
    "_cell_guid": "16bec276-ebb6-4248-8eb2-e65f76fa3a36",
    "_uuid": "8915c9f9df72c9b140719ab9070f1d558d599ffd"
   },
   "outputs": [],
   "source": [
    "'''\n",
    "\n",
    "train = merge[:nrow_train]\n",
    "test = merge[nrow_train:]\n",
    "\n",
    "del merge\n",
    "\n",
    "gc.collect()\n",
    "'''"
   ]
  },
  {
   "cell_type": "code",
   "execution_count": null,
   "metadata": {
    "_cell_guid": "e02b4eff-1de9-4816-abae-bed7a34da202",
    "_uuid": "84b9414f72ef18310d483a8868a22a49745d52e4"
   },
   "outputs": [],
   "source": [
    "#test.head()"
   ]
  },
  {
   "cell_type": "code",
   "execution_count": 23,
   "metadata": {},
   "outputs": [
    {
     "data": {
      "text/plain": [
       "0"
      ]
     },
     "execution_count": 23,
     "metadata": {},
     "output_type": "execute_result"
    }
   ],
   "source": [
    "gc.collect()"
   ]
  },
  {
   "cell_type": "code",
   "execution_count": 24,
   "metadata": {},
   "outputs": [
    {
     "data": {
      "text/html": [
       "<div>\n",
       "<style scoped>\n",
       "    .dataframe tbody tr th:only-of-type {\n",
       "        vertical-align: middle;\n",
       "    }\n",
       "\n",
       "    .dataframe tbody tr th {\n",
       "        vertical-align: top;\n",
       "    }\n",
       "\n",
       "    .dataframe thead th {\n",
       "        text-align: right;\n",
       "    }\n",
       "</style>\n",
       "<table border=\"1\" class=\"dataframe\">\n",
       "  <thead>\n",
       "    <tr style=\"text-align: right;\">\n",
       "      <th></th>\n",
       "      <th>ip</th>\n",
       "      <th>app</th>\n",
       "      <th>device</th>\n",
       "      <th>os</th>\n",
       "      <th>channel</th>\n",
       "      <th>click_time</th>\n",
       "      <th>is_attributed</th>\n",
       "      <th>dow</th>\n",
       "      <th>hour</th>\n",
       "      <th>clicks_by_ip_os_device_app</th>\n",
       "      <th>...</th>\n",
       "      <th>count_app_by_iposdevice</th>\n",
       "      <th>clicks_by_ip</th>\n",
       "      <th>clicks_by_ip_app</th>\n",
       "      <th>clicks_by_ip_os</th>\n",
       "      <th>mean_attr_by_iposdevice</th>\n",
       "      <th>device_attr_avg</th>\n",
       "      <th>app_attr_avg</th>\n",
       "      <th>channel_attr_avg</th>\n",
       "      <th>ip_attr_avg</th>\n",
       "      <th>os_attr_avg</th>\n",
       "    </tr>\n",
       "  </thead>\n",
       "  <tbody>\n",
       "    <tr>\n",
       "      <th>0</th>\n",
       "      <td>87242</td>\n",
       "      <td>24</td>\n",
       "      <td>1</td>\n",
       "      <td>40</td>\n",
       "      <td>178</td>\n",
       "      <td>2017-11-08 01:47:40</td>\n",
       "      <td>0</td>\n",
       "      <td>2</td>\n",
       "      <td>1</td>\n",
       "      <td>1</td>\n",
       "      <td>...</td>\n",
       "      <td>12</td>\n",
       "      <td>970</td>\n",
       "      <td>30</td>\n",
       "      <td>12</td>\n",
       "      <td>0.000000</td>\n",
       "      <td>0.001754</td>\n",
       "      <td>0.000470</td>\n",
       "      <td>0.000109</td>\n",
       "      <td>0.000000</td>\n",
       "      <td>0.003006</td>\n",
       "    </tr>\n",
       "    <tr>\n",
       "      <th>1</th>\n",
       "      <td>49565</td>\n",
       "      <td>12</td>\n",
       "      <td>1</td>\n",
       "      <td>9</td>\n",
       "      <td>259</td>\n",
       "      <td>2017-11-08 01:47:40</td>\n",
       "      <td>0</td>\n",
       "      <td>2</td>\n",
       "      <td>1</td>\n",
       "      <td>14</td>\n",
       "      <td>...</td>\n",
       "      <td>37</td>\n",
       "      <td>408</td>\n",
       "      <td>71</td>\n",
       "      <td>37</td>\n",
       "      <td>0.000000</td>\n",
       "      <td>0.001754</td>\n",
       "      <td>0.000105</td>\n",
       "      <td>0.000329</td>\n",
       "      <td>0.000000</td>\n",
       "      <td>0.000734</td>\n",
       "    </tr>\n",
       "    <tr>\n",
       "      <th>2</th>\n",
       "      <td>39785</td>\n",
       "      <td>9</td>\n",
       "      <td>1</td>\n",
       "      <td>13</td>\n",
       "      <td>244</td>\n",
       "      <td>2017-11-08 01:47:40</td>\n",
       "      <td>0</td>\n",
       "      <td>2</td>\n",
       "      <td>1</td>\n",
       "      <td>152</td>\n",
       "      <td>...</td>\n",
       "      <td>1388</td>\n",
       "      <td>5504</td>\n",
       "      <td>638</td>\n",
       "      <td>1404</td>\n",
       "      <td>0.001433</td>\n",
       "      <td>0.001754</td>\n",
       "      <td>0.001120</td>\n",
       "      <td>0.001905</td>\n",
       "      <td>0.001027</td>\n",
       "      <td>0.001482</td>\n",
       "    </tr>\n",
       "    <tr>\n",
       "      <th>3</th>\n",
       "      <td>5348</td>\n",
       "      <td>3</td>\n",
       "      <td>1</td>\n",
       "      <td>18</td>\n",
       "      <td>280</td>\n",
       "      <td>2017-11-08 01:47:40</td>\n",
       "      <td>0</td>\n",
       "      <td>2</td>\n",
       "      <td>1</td>\n",
       "      <td>5365</td>\n",
       "      <td>...</td>\n",
       "      <td>28403</td>\n",
       "      <td>700322</td>\n",
       "      <td>120694</td>\n",
       "      <td>31202</td>\n",
       "      <td>0.000726</td>\n",
       "      <td>0.001754</td>\n",
       "      <td>0.000244</td>\n",
       "      <td>0.000216</td>\n",
       "      <td>0.001697</td>\n",
       "      <td>0.001368</td>\n",
       "    </tr>\n",
       "    <tr>\n",
       "      <th>4</th>\n",
       "      <td>56516</td>\n",
       "      <td>9</td>\n",
       "      <td>1</td>\n",
       "      <td>17</td>\n",
       "      <td>466</td>\n",
       "      <td>2017-11-08 01:47:40</td>\n",
       "      <td>0</td>\n",
       "      <td>2</td>\n",
       "      <td>1</td>\n",
       "      <td>14</td>\n",
       "      <td>...</td>\n",
       "      <td>217</td>\n",
       "      <td>3320</td>\n",
       "      <td>319</td>\n",
       "      <td>217</td>\n",
       "      <td>0.000000</td>\n",
       "      <td>0.001754</td>\n",
       "      <td>0.001120</td>\n",
       "      <td>0.001138</td>\n",
       "      <td>0.001247</td>\n",
       "      <td>0.001123</td>\n",
       "    </tr>\n",
       "  </tbody>\n",
       "</table>\n",
       "<p>5 rows × 21 columns</p>\n",
       "</div>"
      ],
      "text/plain": [
       "      ip  app  device  os  channel           click_time  is_attributed  dow  \\\n",
       "0  87242   24       1  40      178  2017-11-08 01:47:40              0    2   \n",
       "1  49565   12       1   9      259  2017-11-08 01:47:40              0    2   \n",
       "2  39785    9       1  13      244  2017-11-08 01:47:40              0    2   \n",
       "3   5348    3       1  18      280  2017-11-08 01:47:40              0    2   \n",
       "4  56516    9       1  17      466  2017-11-08 01:47:40              0    2   \n",
       "\n",
       "   hour  clicks_by_ip_os_device_app     ...       count_app_by_iposdevice  \\\n",
       "0     1                           1     ...                            12   \n",
       "1     1                          14     ...                            37   \n",
       "2     1                         152     ...                          1388   \n",
       "3     1                        5365     ...                         28403   \n",
       "4     1                          14     ...                           217   \n",
       "\n",
       "   clicks_by_ip  clicks_by_ip_app  clicks_by_ip_os  mean_attr_by_iposdevice  \\\n",
       "0           970                30               12                 0.000000   \n",
       "1           408                71               37                 0.000000   \n",
       "2          5504               638             1404                 0.001433   \n",
       "3        700322            120694            31202                 0.000726   \n",
       "4          3320               319              217                 0.000000   \n",
       "\n",
       "   device_attr_avg  app_attr_avg  channel_attr_avg  ip_attr_avg  os_attr_avg  \n",
       "0         0.001754      0.000470          0.000109     0.000000     0.003006  \n",
       "1         0.001754      0.000105          0.000329     0.000000     0.000734  \n",
       "2         0.001754      0.001120          0.001905     0.001027     0.001482  \n",
       "3         0.001754      0.000244          0.000216     0.001697     0.001368  \n",
       "4         0.001754      0.001120          0.001138     0.001247     0.001123  \n",
       "\n",
       "[5 rows x 21 columns]"
      ]
     },
     "execution_count": 24,
     "metadata": {},
     "output_type": "execute_result"
    }
   ],
   "source": [
    "train.head()"
   ]
  },
  {
   "cell_type": "code",
   "execution_count": 25,
   "metadata": {
    "_cell_guid": "cfcfd8ee-bd92-4617-8737-7d96abcca1c1",
    "_uuid": "1549259a04936097b6d2b9a33cb8ddc708a801bc"
   },
   "outputs": [
    {
     "name": "stdout",
     "output_type": "stream",
     "text": [
      "CPU times: user 27.4 s, sys: 1.02 s, total: 28.4 s\n",
      "Wall time: 28.1 s\n"
     ]
    }
   ],
   "source": [
    "%%time\n",
    "train[\"click_time\"] = pd.to_datetime(train[\"click_time\"], format=\"%Y-%m-%d %H:%M:%S\")\n",
    "valid[\"click_time\"] = pd.to_datetime(valid[\"click_time\"], format=\"%Y-%m-%d %H:%M:%S\")\n",
    "gc.collect()\n",
    "train.head()"
   ]
  },
  {
   "cell_type": "code",
   "execution_count": 26,
   "metadata": {},
   "outputs": [
    {
     "name": "stdout",
     "output_type": "stream",
     "text": [
      "CPU times: user 19min 23s, sys: 3min 14s, total: 22min 37s\n",
      "Wall time: 22min 28s\n"
     ]
    }
   ],
   "source": [
    "%%time\n",
    "train[\"ordinal_date\"] = train[\"click_time\"].apply(lambda x: time.mktime(x.timetuple()))\n",
    "gc.collect()\n",
    "valid[\"ordinal_date\"] = valid[\"click_time\"].apply(lambda x: time.mktime(x.timetuple()))\n",
    "gc.collect()"
   ]
  },
  {
   "cell_type": "code",
   "execution_count": 27,
   "metadata": {},
   "outputs": [
    {
     "data": {
      "text/plain": [
       "14"
      ]
     },
     "execution_count": 27,
     "metadata": {},
     "output_type": "execute_result"
    }
   ],
   "source": [
    "train[\"train_set\"] = 1\n",
    "valid[\"train_set\"] = 0\n",
    "gc.collect()"
   ]
  },
  {
   "cell_type": "code",
   "execution_count": 28,
   "metadata": {},
   "outputs": [
    {
     "name": "stdout",
     "output_type": "stream",
     "text": [
      "CPU times: user 28.3 s, sys: 1min 12s, total: 1min 41s\n",
      "Wall time: 1min 43s\n"
     ]
    }
   ],
   "source": [
    "%%time\n",
    "train = train.sort_values(by=\"ordinal_date\").reset_index(drop=True)\n",
    "valid = valid.sort_values(by=\"ordinal_date\").reset_index(drop=True)\n",
    "gc.collect()"
   ]
  },
  {
   "cell_type": "code",
   "execution_count": 31,
   "metadata": {},
   "outputs": [
    {
     "data": {
      "text/html": [
       "<div>\n",
       "<style scoped>\n",
       "    .dataframe tbody tr th:only-of-type {\n",
       "        vertical-align: middle;\n",
       "    }\n",
       "\n",
       "    .dataframe tbody tr th {\n",
       "        vertical-align: top;\n",
       "    }\n",
       "\n",
       "    .dataframe thead th {\n",
       "        text-align: right;\n",
       "    }\n",
       "</style>\n",
       "<table border=\"1\" class=\"dataframe\">\n",
       "  <thead>\n",
       "    <tr style=\"text-align: right;\">\n",
       "      <th></th>\n",
       "      <th>ip</th>\n",
       "      <th>app</th>\n",
       "      <th>device</th>\n",
       "      <th>os</th>\n",
       "      <th>channel</th>\n",
       "      <th>click_time</th>\n",
       "      <th>is_attributed</th>\n",
       "      <th>dow</th>\n",
       "      <th>hour</th>\n",
       "      <th>clicks_by_ip_os_device_app</th>\n",
       "      <th>...</th>\n",
       "      <th>clicks_by_ip_app</th>\n",
       "      <th>clicks_by_ip_os</th>\n",
       "      <th>mean_attr_by_iposdevice</th>\n",
       "      <th>device_attr_avg</th>\n",
       "      <th>app_attr_avg</th>\n",
       "      <th>channel_attr_avg</th>\n",
       "      <th>ip_attr_avg</th>\n",
       "      <th>os_attr_avg</th>\n",
       "      <th>ordinal_date</th>\n",
       "      <th>train_set</th>\n",
       "    </tr>\n",
       "  </thead>\n",
       "  <tbody>\n",
       "    <tr>\n",
       "      <th>0</th>\n",
       "      <td>87242</td>\n",
       "      <td>24</td>\n",
       "      <td>1</td>\n",
       "      <td>40</td>\n",
       "      <td>178</td>\n",
       "      <td>2017-11-08 01:47:40</td>\n",
       "      <td>0</td>\n",
       "      <td>2</td>\n",
       "      <td>1</td>\n",
       "      <td>1</td>\n",
       "      <td>...</td>\n",
       "      <td>30</td>\n",
       "      <td>12</td>\n",
       "      <td>0.0</td>\n",
       "      <td>0.001754</td>\n",
       "      <td>0.000470</td>\n",
       "      <td>0.000109</td>\n",
       "      <td>0.000000</td>\n",
       "      <td>0.003006</td>\n",
       "      <td>1.510106e+09</td>\n",
       "      <td>1</td>\n",
       "    </tr>\n",
       "    <tr>\n",
       "      <th>1</th>\n",
       "      <td>188573</td>\n",
       "      <td>18</td>\n",
       "      <td>1</td>\n",
       "      <td>20</td>\n",
       "      <td>439</td>\n",
       "      <td>2017-11-08 01:47:40</td>\n",
       "      <td>0</td>\n",
       "      <td>2</td>\n",
       "      <td>1</td>\n",
       "      <td>1</td>\n",
       "      <td>...</td>\n",
       "      <td>61</td>\n",
       "      <td>11</td>\n",
       "      <td>0.0</td>\n",
       "      <td>0.001754</td>\n",
       "      <td>0.000507</td>\n",
       "      <td>0.000427</td>\n",
       "      <td>0.000000</td>\n",
       "      <td>0.001296</td>\n",
       "      <td>1.510106e+09</td>\n",
       "      <td>1</td>\n",
       "    </tr>\n",
       "    <tr>\n",
       "      <th>2</th>\n",
       "      <td>81514</td>\n",
       "      <td>2</td>\n",
       "      <td>2</td>\n",
       "      <td>13</td>\n",
       "      <td>401</td>\n",
       "      <td>2017-11-08 01:47:40</td>\n",
       "      <td>0</td>\n",
       "      <td>2</td>\n",
       "      <td>1</td>\n",
       "      <td>21</td>\n",
       "      <td>...</td>\n",
       "      <td>1175</td>\n",
       "      <td>1947</td>\n",
       "      <td>0.0</td>\n",
       "      <td>0.000290</td>\n",
       "      <td>0.000251</td>\n",
       "      <td>0.000229</td>\n",
       "      <td>0.000126</td>\n",
       "      <td>0.001482</td>\n",
       "      <td>1.510106e+09</td>\n",
       "      <td>1</td>\n",
       "    </tr>\n",
       "    <tr>\n",
       "      <th>3</th>\n",
       "      <td>35707</td>\n",
       "      <td>21</td>\n",
       "      <td>1</td>\n",
       "      <td>19</td>\n",
       "      <td>128</td>\n",
       "      <td>2017-11-08 01:47:40</td>\n",
       "      <td>0</td>\n",
       "      <td>2</td>\n",
       "      <td>1</td>\n",
       "      <td>45</td>\n",
       "      <td>...</td>\n",
       "      <td>169</td>\n",
       "      <td>1266</td>\n",
       "      <td>0.0</td>\n",
       "      <td>0.001754</td>\n",
       "      <td>0.000142</td>\n",
       "      <td>0.000231</td>\n",
       "      <td>0.000277</td>\n",
       "      <td>0.001767</td>\n",
       "      <td>1.510106e+09</td>\n",
       "      <td>1</td>\n",
       "    </tr>\n",
       "    <tr>\n",
       "      <th>4</th>\n",
       "      <td>74324</td>\n",
       "      <td>2</td>\n",
       "      <td>1</td>\n",
       "      <td>17</td>\n",
       "      <td>237</td>\n",
       "      <td>2017-11-08 01:47:40</td>\n",
       "      <td>0</td>\n",
       "      <td>2</td>\n",
       "      <td>1</td>\n",
       "      <td>174</td>\n",
       "      <td>...</td>\n",
       "      <td>1387</td>\n",
       "      <td>892</td>\n",
       "      <td>0.0</td>\n",
       "      <td>0.001754</td>\n",
       "      <td>0.000251</td>\n",
       "      <td>0.000222</td>\n",
       "      <td>0.001590</td>\n",
       "      <td>0.001123</td>\n",
       "      <td>1.510106e+09</td>\n",
       "      <td>1</td>\n",
       "    </tr>\n",
       "  </tbody>\n",
       "</table>\n",
       "<p>5 rows × 23 columns</p>\n",
       "</div>"
      ],
      "text/plain": [
       "       ip  app  device  os  channel          click_time  is_attributed  dow  \\\n",
       "0   87242   24       1  40      178 2017-11-08 01:47:40              0    2   \n",
       "1  188573   18       1  20      439 2017-11-08 01:47:40              0    2   \n",
       "2   81514    2       2  13      401 2017-11-08 01:47:40              0    2   \n",
       "3   35707   21       1  19      128 2017-11-08 01:47:40              0    2   \n",
       "4   74324    2       1  17      237 2017-11-08 01:47:40              0    2   \n",
       "\n",
       "   hour  clicks_by_ip_os_device_app    ...      clicks_by_ip_app  \\\n",
       "0     1                           1    ...                    30   \n",
       "1     1                           1    ...                    61   \n",
       "2     1                          21    ...                  1175   \n",
       "3     1                          45    ...                   169   \n",
       "4     1                         174    ...                  1387   \n",
       "\n",
       "   clicks_by_ip_os  mean_attr_by_iposdevice  device_attr_avg  app_attr_avg  \\\n",
       "0               12                      0.0         0.001754      0.000470   \n",
       "1               11                      0.0         0.001754      0.000507   \n",
       "2             1947                      0.0         0.000290      0.000251   \n",
       "3             1266                      0.0         0.001754      0.000142   \n",
       "4              892                      0.0         0.001754      0.000251   \n",
       "\n",
       "   channel_attr_avg  ip_attr_avg  os_attr_avg  ordinal_date  train_set  \n",
       "0          0.000109     0.000000     0.003006  1.510106e+09          1  \n",
       "1          0.000427     0.000000     0.001296  1.510106e+09          1  \n",
       "2          0.000229     0.000126     0.001482  1.510106e+09          1  \n",
       "3          0.000231     0.000277     0.001767  1.510106e+09          1  \n",
       "4          0.000222     0.001590     0.001123  1.510106e+09          1  \n",
       "\n",
       "[5 rows x 23 columns]"
      ]
     },
     "execution_count": 31,
     "metadata": {},
     "output_type": "execute_result"
    }
   ],
   "source": [
    "train.head()"
   ]
  },
  {
   "cell_type": "code",
   "execution_count": 32,
   "metadata": {},
   "outputs": [
    {
     "name": "stdout",
     "output_type": "stream",
     "text": [
      "CPU times: user 16.4 s, sys: 1min 13s, total: 1min 29s\n",
      "Wall time: 1min 49s\n"
     ]
    }
   ],
   "source": [
    "%%time\n",
    "gc.collect\n",
    "full_df = train.append(valid).reset_index(drop=True)"
   ]
  },
  {
   "cell_type": "code",
   "execution_count": 33,
   "metadata": {},
   "outputs": [
    {
     "data": {
      "text/plain": [
       "(110000000, 23)"
      ]
     },
     "execution_count": 33,
     "metadata": {},
     "output_type": "execute_result"
    }
   ],
   "source": [
    "full_df.shape"
   ]
  },
  {
   "cell_type": "code",
   "execution_count": 34,
   "metadata": {},
   "outputs": [
    {
     "data": {
      "text/plain": [
       "234"
      ]
     },
     "execution_count": 34,
     "metadata": {},
     "output_type": "execute_result"
    }
   ],
   "source": [
    "del train,valid\n",
    "gc.collect()"
   ]
  },
  {
   "cell_type": "code",
   "execution_count": 35,
   "metadata": {},
   "outputs": [
    {
     "name": "stdout",
     "output_type": "stream",
     "text": [
      "CPU times: user 30.8 s, sys: 4.63 s, total: 35.4 s\n",
      "Wall time: 36.9 s\n"
     ]
    }
   ],
   "source": [
    "%%time\n",
    "full_df[\"user_prev_date\"] = full_df.groupby(['ip','device','os'])[\"ordinal_date\"].shift(1)\n",
    "full_df[\"user_date_diff\"] = full_df[\"ordinal_date\"] - full_df[\"user_prev_date\"]"
   ]
  },
  {
   "cell_type": "code",
   "execution_count": 37,
   "metadata": {},
   "outputs": [
    {
     "data": {
      "text/html": [
       "<div>\n",
       "<style scoped>\n",
       "    .dataframe tbody tr th:only-of-type {\n",
       "        vertical-align: middle;\n",
       "    }\n",
       "\n",
       "    .dataframe tbody tr th {\n",
       "        vertical-align: top;\n",
       "    }\n",
       "\n",
       "    .dataframe thead th {\n",
       "        text-align: right;\n",
       "    }\n",
       "</style>\n",
       "<table border=\"1\" class=\"dataframe\">\n",
       "  <thead>\n",
       "    <tr style=\"text-align: right;\">\n",
       "      <th></th>\n",
       "      <th>ip</th>\n",
       "      <th>app</th>\n",
       "      <th>device</th>\n",
       "      <th>os</th>\n",
       "      <th>channel</th>\n",
       "      <th>click_time</th>\n",
       "      <th>is_attributed</th>\n",
       "      <th>dow</th>\n",
       "      <th>hour</th>\n",
       "      <th>clicks_by_ip_os_device_app</th>\n",
       "      <th>...</th>\n",
       "      <th>mean_attr_by_iposdevice</th>\n",
       "      <th>device_attr_avg</th>\n",
       "      <th>app_attr_avg</th>\n",
       "      <th>channel_attr_avg</th>\n",
       "      <th>ip_attr_avg</th>\n",
       "      <th>os_attr_avg</th>\n",
       "      <th>ordinal_date</th>\n",
       "      <th>train_set</th>\n",
       "      <th>user_prev_date</th>\n",
       "      <th>user_date_diff</th>\n",
       "    </tr>\n",
       "  </thead>\n",
       "  <tbody>\n",
       "    <tr>\n",
       "      <th>0</th>\n",
       "      <td>87242</td>\n",
       "      <td>24</td>\n",
       "      <td>1</td>\n",
       "      <td>40</td>\n",
       "      <td>178</td>\n",
       "      <td>2017-11-08 01:47:40</td>\n",
       "      <td>0</td>\n",
       "      <td>2</td>\n",
       "      <td>1</td>\n",
       "      <td>1</td>\n",
       "      <td>...</td>\n",
       "      <td>0.0</td>\n",
       "      <td>0.001754</td>\n",
       "      <td>0.000470</td>\n",
       "      <td>0.000109</td>\n",
       "      <td>0.000000</td>\n",
       "      <td>0.003006</td>\n",
       "      <td>1.510106e+09</td>\n",
       "      <td>1</td>\n",
       "      <td>NaN</td>\n",
       "      <td>NaN</td>\n",
       "    </tr>\n",
       "    <tr>\n",
       "      <th>1</th>\n",
       "      <td>188573</td>\n",
       "      <td>18</td>\n",
       "      <td>1</td>\n",
       "      <td>20</td>\n",
       "      <td>439</td>\n",
       "      <td>2017-11-08 01:47:40</td>\n",
       "      <td>0</td>\n",
       "      <td>2</td>\n",
       "      <td>1</td>\n",
       "      <td>1</td>\n",
       "      <td>...</td>\n",
       "      <td>0.0</td>\n",
       "      <td>0.001754</td>\n",
       "      <td>0.000507</td>\n",
       "      <td>0.000427</td>\n",
       "      <td>0.000000</td>\n",
       "      <td>0.001296</td>\n",
       "      <td>1.510106e+09</td>\n",
       "      <td>1</td>\n",
       "      <td>NaN</td>\n",
       "      <td>NaN</td>\n",
       "    </tr>\n",
       "    <tr>\n",
       "      <th>2</th>\n",
       "      <td>81514</td>\n",
       "      <td>2</td>\n",
       "      <td>2</td>\n",
       "      <td>13</td>\n",
       "      <td>401</td>\n",
       "      <td>2017-11-08 01:47:40</td>\n",
       "      <td>0</td>\n",
       "      <td>2</td>\n",
       "      <td>1</td>\n",
       "      <td>21</td>\n",
       "      <td>...</td>\n",
       "      <td>0.0</td>\n",
       "      <td>0.000290</td>\n",
       "      <td>0.000251</td>\n",
       "      <td>0.000229</td>\n",
       "      <td>0.000126</td>\n",
       "      <td>0.001482</td>\n",
       "      <td>1.510106e+09</td>\n",
       "      <td>1</td>\n",
       "      <td>NaN</td>\n",
       "      <td>NaN</td>\n",
       "    </tr>\n",
       "    <tr>\n",
       "      <th>3</th>\n",
       "      <td>35707</td>\n",
       "      <td>21</td>\n",
       "      <td>1</td>\n",
       "      <td>19</td>\n",
       "      <td>128</td>\n",
       "      <td>2017-11-08 01:47:40</td>\n",
       "      <td>0</td>\n",
       "      <td>2</td>\n",
       "      <td>1</td>\n",
       "      <td>45</td>\n",
       "      <td>...</td>\n",
       "      <td>0.0</td>\n",
       "      <td>0.001754</td>\n",
       "      <td>0.000142</td>\n",
       "      <td>0.000231</td>\n",
       "      <td>0.000277</td>\n",
       "      <td>0.001767</td>\n",
       "      <td>1.510106e+09</td>\n",
       "      <td>1</td>\n",
       "      <td>NaN</td>\n",
       "      <td>NaN</td>\n",
       "    </tr>\n",
       "    <tr>\n",
       "      <th>4</th>\n",
       "      <td>74324</td>\n",
       "      <td>2</td>\n",
       "      <td>1</td>\n",
       "      <td>17</td>\n",
       "      <td>237</td>\n",
       "      <td>2017-11-08 01:47:40</td>\n",
       "      <td>0</td>\n",
       "      <td>2</td>\n",
       "      <td>1</td>\n",
       "      <td>174</td>\n",
       "      <td>...</td>\n",
       "      <td>0.0</td>\n",
       "      <td>0.001754</td>\n",
       "      <td>0.000251</td>\n",
       "      <td>0.000222</td>\n",
       "      <td>0.001590</td>\n",
       "      <td>0.001123</td>\n",
       "      <td>1.510106e+09</td>\n",
       "      <td>1</td>\n",
       "      <td>NaN</td>\n",
       "      <td>NaN</td>\n",
       "    </tr>\n",
       "  </tbody>\n",
       "</table>\n",
       "<p>5 rows × 25 columns</p>\n",
       "</div>"
      ],
      "text/plain": [
       "       ip  app  device  os  channel          click_time  is_attributed  dow  \\\n",
       "0   87242   24       1  40      178 2017-11-08 01:47:40              0    2   \n",
       "1  188573   18       1  20      439 2017-11-08 01:47:40              0    2   \n",
       "2   81514    2       2  13      401 2017-11-08 01:47:40              0    2   \n",
       "3   35707   21       1  19      128 2017-11-08 01:47:40              0    2   \n",
       "4   74324    2       1  17      237 2017-11-08 01:47:40              0    2   \n",
       "\n",
       "   hour  clicks_by_ip_os_device_app       ...        mean_attr_by_iposdevice  \\\n",
       "0     1                           1       ...                            0.0   \n",
       "1     1                           1       ...                            0.0   \n",
       "2     1                          21       ...                            0.0   \n",
       "3     1                          45       ...                            0.0   \n",
       "4     1                         174       ...                            0.0   \n",
       "\n",
       "   device_attr_avg  app_attr_avg  channel_attr_avg  ip_attr_avg  os_attr_avg  \\\n",
       "0         0.001754      0.000470          0.000109     0.000000     0.003006   \n",
       "1         0.001754      0.000507          0.000427     0.000000     0.001296   \n",
       "2         0.000290      0.000251          0.000229     0.000126     0.001482   \n",
       "3         0.001754      0.000142          0.000231     0.000277     0.001767   \n",
       "4         0.001754      0.000251          0.000222     0.001590     0.001123   \n",
       "\n",
       "   ordinal_date  train_set  user_prev_date  user_date_diff  \n",
       "0  1.510106e+09          1             NaN             NaN  \n",
       "1  1.510106e+09          1             NaN             NaN  \n",
       "2  1.510106e+09          1             NaN             NaN  \n",
       "3  1.510106e+09          1             NaN             NaN  \n",
       "4  1.510106e+09          1             NaN             NaN  \n",
       "\n",
       "[5 rows x 25 columns]"
      ]
     },
     "execution_count": 37,
     "metadata": {},
     "output_type": "execute_result"
    }
   ],
   "source": [
    "gc.collect()\n",
    "full_df.head()"
   ]
  },
  {
   "cell_type": "code",
   "execution_count": 38,
   "metadata": {},
   "outputs": [
    {
     "name": "stdout",
     "output_type": "stream",
     "text": [
      "CPU times: user 3min 28s, sys: 1min 23s, total: 4min 52s\n",
      "Wall time: 5min 34s\n"
     ]
    }
   ],
   "source": [
    "'''\n",
    "%%time\n",
    "gdf = full_df.groupby(['ip','device','os'])[\"ordinal_date\"].agg([ \"mean\", \"std\"]).reset_index()\n",
    "gdf.columns = [\"ip\",\"device\",\"os\",\"user_mean_date\",\"user_std_date\"]\n",
    "full_df = pd.merge(full_df, gdf, on=['ip','device','os'])\n",
    "del gdf\n",
    "gc.collect()\n",
    "\n",
    "\n",
    "'''"
   ]
  },
  {
   "cell_type": "code",
   "execution_count": 39,
   "metadata": {},
   "outputs": [
    {
     "name": "stdout",
     "output_type": "stream",
     "text": [
      "(110000000, 29)\n"
     ]
    },
    {
     "data": {
      "text/html": [
       "<div>\n",
       "<style scoped>\n",
       "    .dataframe tbody tr th:only-of-type {\n",
       "        vertical-align: middle;\n",
       "    }\n",
       "\n",
       "    .dataframe tbody tr th {\n",
       "        vertical-align: top;\n",
       "    }\n",
       "\n",
       "    .dataframe thead th {\n",
       "        text-align: right;\n",
       "    }\n",
       "</style>\n",
       "<table border=\"1\" class=\"dataframe\">\n",
       "  <thead>\n",
       "    <tr style=\"text-align: right;\">\n",
       "      <th></th>\n",
       "      <th>ip</th>\n",
       "      <th>app</th>\n",
       "      <th>device</th>\n",
       "      <th>os</th>\n",
       "      <th>channel</th>\n",
       "      <th>click_time</th>\n",
       "      <th>is_attributed</th>\n",
       "      <th>dow</th>\n",
       "      <th>hour</th>\n",
       "      <th>clicks_by_ip_os_device_app</th>\n",
       "      <th>...</th>\n",
       "      <th>ip_attr_avg</th>\n",
       "      <th>os_attr_avg</th>\n",
       "      <th>ordinal_date</th>\n",
       "      <th>train_set</th>\n",
       "      <th>user_prev_date</th>\n",
       "      <th>user_date_diff</th>\n",
       "      <th>user_min_date</th>\n",
       "      <th>user_mean_date</th>\n",
       "      <th>user_max_date</th>\n",
       "      <th>user_std_date</th>\n",
       "    </tr>\n",
       "  </thead>\n",
       "  <tbody>\n",
       "    <tr>\n",
       "      <th>0</th>\n",
       "      <td>87242</td>\n",
       "      <td>24</td>\n",
       "      <td>1</td>\n",
       "      <td>40</td>\n",
       "      <td>178</td>\n",
       "      <td>2017-11-08 01:47:40</td>\n",
       "      <td>0</td>\n",
       "      <td>2</td>\n",
       "      <td>1</td>\n",
       "      <td>1</td>\n",
       "      <td>...</td>\n",
       "      <td>0.0</td>\n",
       "      <td>0.003006</td>\n",
       "      <td>1.510106e+09</td>\n",
       "      <td>1</td>\n",
       "      <td>NaN</td>\n",
       "      <td>NaN</td>\n",
       "      <td>1.510106e+09</td>\n",
       "      <td>1.510112e+09</td>\n",
       "      <td>1.510113e+09</td>\n",
       "      <td>2873.611628</td>\n",
       "    </tr>\n",
       "    <tr>\n",
       "      <th>1</th>\n",
       "      <td>87242</td>\n",
       "      <td>1</td>\n",
       "      <td>1</td>\n",
       "      <td>40</td>\n",
       "      <td>125</td>\n",
       "      <td>2017-11-08 01:47:40</td>\n",
       "      <td>0</td>\n",
       "      <td>2</td>\n",
       "      <td>1</td>\n",
       "      <td>2</td>\n",
       "      <td>...</td>\n",
       "      <td>0.0</td>\n",
       "      <td>0.003006</td>\n",
       "      <td>1.510106e+09</td>\n",
       "      <td>1</td>\n",
       "      <td>1.510106e+09</td>\n",
       "      <td>0.0</td>\n",
       "      <td>1.510106e+09</td>\n",
       "      <td>1.510112e+09</td>\n",
       "      <td>1.510113e+09</td>\n",
       "      <td>2873.611628</td>\n",
       "    </tr>\n",
       "    <tr>\n",
       "      <th>2</th>\n",
       "      <td>87242</td>\n",
       "      <td>21</td>\n",
       "      <td>1</td>\n",
       "      <td>40</td>\n",
       "      <td>128</td>\n",
       "      <td>2017-11-08 03:49:51</td>\n",
       "      <td>0</td>\n",
       "      <td>2</td>\n",
       "      <td>3</td>\n",
       "      <td>2</td>\n",
       "      <td>...</td>\n",
       "      <td>0.0</td>\n",
       "      <td>0.003006</td>\n",
       "      <td>1.510113e+09</td>\n",
       "      <td>1</td>\n",
       "      <td>1.510106e+09</td>\n",
       "      <td>7331.0</td>\n",
       "      <td>1.510106e+09</td>\n",
       "      <td>1.510112e+09</td>\n",
       "      <td>1.510113e+09</td>\n",
       "      <td>2873.611628</td>\n",
       "    </tr>\n",
       "    <tr>\n",
       "      <th>3</th>\n",
       "      <td>87242</td>\n",
       "      <td>14</td>\n",
       "      <td>1</td>\n",
       "      <td>40</td>\n",
       "      <td>123</td>\n",
       "      <td>2017-11-08 03:50:04</td>\n",
       "      <td>0</td>\n",
       "      <td>2</td>\n",
       "      <td>3</td>\n",
       "      <td>1</td>\n",
       "      <td>...</td>\n",
       "      <td>0.0</td>\n",
       "      <td>0.003006</td>\n",
       "      <td>1.510113e+09</td>\n",
       "      <td>1</td>\n",
       "      <td>1.510113e+09</td>\n",
       "      <td>13.0</td>\n",
       "      <td>1.510106e+09</td>\n",
       "      <td>1.510112e+09</td>\n",
       "      <td>1.510113e+09</td>\n",
       "      <td>2873.611628</td>\n",
       "    </tr>\n",
       "    <tr>\n",
       "      <th>4</th>\n",
       "      <td>87242</td>\n",
       "      <td>8</td>\n",
       "      <td>1</td>\n",
       "      <td>40</td>\n",
       "      <td>145</td>\n",
       "      <td>2017-11-08 03:50:49</td>\n",
       "      <td>0</td>\n",
       "      <td>2</td>\n",
       "      <td>3</td>\n",
       "      <td>3</td>\n",
       "      <td>...</td>\n",
       "      <td>0.0</td>\n",
       "      <td>0.003006</td>\n",
       "      <td>1.510113e+09</td>\n",
       "      <td>1</td>\n",
       "      <td>1.510113e+09</td>\n",
       "      <td>45.0</td>\n",
       "      <td>1.510106e+09</td>\n",
       "      <td>1.510112e+09</td>\n",
       "      <td>1.510113e+09</td>\n",
       "      <td>2873.611628</td>\n",
       "    </tr>\n",
       "  </tbody>\n",
       "</table>\n",
       "<p>5 rows × 29 columns</p>\n",
       "</div>"
      ],
      "text/plain": [
       "      ip  app  device  os  channel          click_time  is_attributed  dow  \\\n",
       "0  87242   24       1  40      178 2017-11-08 01:47:40              0    2   \n",
       "1  87242    1       1  40      125 2017-11-08 01:47:40              0    2   \n",
       "2  87242   21       1  40      128 2017-11-08 03:49:51              0    2   \n",
       "3  87242   14       1  40      123 2017-11-08 03:50:04              0    2   \n",
       "4  87242    8       1  40      145 2017-11-08 03:50:49              0    2   \n",
       "\n",
       "   hour  clicks_by_ip_os_device_app      ...        ip_attr_avg  os_attr_avg  \\\n",
       "0     1                           1      ...                0.0     0.003006   \n",
       "1     1                           2      ...                0.0     0.003006   \n",
       "2     3                           2      ...                0.0     0.003006   \n",
       "3     3                           1      ...                0.0     0.003006   \n",
       "4     3                           3      ...                0.0     0.003006   \n",
       "\n",
       "   ordinal_date  train_set  user_prev_date  user_date_diff  user_min_date  \\\n",
       "0  1.510106e+09          1             NaN             NaN   1.510106e+09   \n",
       "1  1.510106e+09          1    1.510106e+09             0.0   1.510106e+09   \n",
       "2  1.510113e+09          1    1.510106e+09          7331.0   1.510106e+09   \n",
       "3  1.510113e+09          1    1.510113e+09            13.0   1.510106e+09   \n",
       "4  1.510113e+09          1    1.510113e+09            45.0   1.510106e+09   \n",
       "\n",
       "   user_mean_date  user_max_date  user_std_date  \n",
       "0    1.510112e+09   1.510113e+09    2873.611628  \n",
       "1    1.510112e+09   1.510113e+09    2873.611628  \n",
       "2    1.510112e+09   1.510113e+09    2873.611628  \n",
       "3    1.510112e+09   1.510113e+09    2873.611628  \n",
       "4    1.510112e+09   1.510113e+09    2873.611628  \n",
       "\n",
       "[5 rows x 29 columns]"
      ]
     },
     "execution_count": 39,
     "metadata": {},
     "output_type": "execute_result"
    }
   ],
   "source": [
    "print(full_df.shape)\n",
    "full_df.head()"
   ]
  },
  {
   "cell_type": "code",
   "execution_count": 40,
   "metadata": {},
   "outputs": [
    {
     "name": "stdout",
     "output_type": "stream",
     "text": [
      "CPU times: user 40.3 s, sys: 1min 11s, total: 1min 52s\n",
      "Wall time: 2min 46s\n"
     ]
    }
   ],
   "source": [
    "%%time\n",
    "gdf = full_df[full_df['is_attributed']==1]\n",
    "gdf = gdf.groupby(['ip','device','os'])[\"ordinal_date\"].agg([\"mean\",\"std\"]).reset_index()\n",
    "gdf.columns = [\"ip\",\"device\",\"os\",\"user_mean_date_click\", \"user_std_date_click\"]\n",
    "full_df = pd.merge(full_df, gdf, on=['ip','device','os'], how=\"left\")\n",
    "del gdf\n",
    "gc.collect()"
   ]
  },
  {
   "cell_type": "code",
   "execution_count": 41,
   "metadata": {},
   "outputs": [
    {
     "data": {
      "text/html": [
       "<div>\n",
       "<style scoped>\n",
       "    .dataframe tbody tr th:only-of-type {\n",
       "        vertical-align: middle;\n",
       "    }\n",
       "\n",
       "    .dataframe tbody tr th {\n",
       "        vertical-align: top;\n",
       "    }\n",
       "\n",
       "    .dataframe thead th {\n",
       "        text-align: right;\n",
       "    }\n",
       "</style>\n",
       "<table border=\"1\" class=\"dataframe\">\n",
       "  <thead>\n",
       "    <tr style=\"text-align: right;\">\n",
       "      <th></th>\n",
       "      <th>ip</th>\n",
       "      <th>app</th>\n",
       "      <th>device</th>\n",
       "      <th>os</th>\n",
       "      <th>channel</th>\n",
       "      <th>click_time</th>\n",
       "      <th>is_attributed</th>\n",
       "      <th>dow</th>\n",
       "      <th>hour</th>\n",
       "      <th>clicks_by_ip_os_device_app</th>\n",
       "      <th>...</th>\n",
       "      <th>ordinal_date</th>\n",
       "      <th>train_set</th>\n",
       "      <th>user_prev_date</th>\n",
       "      <th>user_date_diff</th>\n",
       "      <th>user_min_date</th>\n",
       "      <th>user_mean_date</th>\n",
       "      <th>user_max_date</th>\n",
       "      <th>user_std_date</th>\n",
       "      <th>user_mean_date_click</th>\n",
       "      <th>user_std_date_click</th>\n",
       "    </tr>\n",
       "  </thead>\n",
       "  <tbody>\n",
       "    <tr>\n",
       "      <th>0</th>\n",
       "      <td>87242</td>\n",
       "      <td>24</td>\n",
       "      <td>1</td>\n",
       "      <td>40</td>\n",
       "      <td>178</td>\n",
       "      <td>2017-11-08 01:47:40</td>\n",
       "      <td>0</td>\n",
       "      <td>2</td>\n",
       "      <td>1</td>\n",
       "      <td>1</td>\n",
       "      <td>...</td>\n",
       "      <td>1.510106e+09</td>\n",
       "      <td>1</td>\n",
       "      <td>NaN</td>\n",
       "      <td>NaN</td>\n",
       "      <td>1.510106e+09</td>\n",
       "      <td>1.510112e+09</td>\n",
       "      <td>1.510113e+09</td>\n",
       "      <td>2873.611628</td>\n",
       "      <td>NaN</td>\n",
       "      <td>NaN</td>\n",
       "    </tr>\n",
       "    <tr>\n",
       "      <th>1</th>\n",
       "      <td>87242</td>\n",
       "      <td>1</td>\n",
       "      <td>1</td>\n",
       "      <td>40</td>\n",
       "      <td>125</td>\n",
       "      <td>2017-11-08 01:47:40</td>\n",
       "      <td>0</td>\n",
       "      <td>2</td>\n",
       "      <td>1</td>\n",
       "      <td>2</td>\n",
       "      <td>...</td>\n",
       "      <td>1.510106e+09</td>\n",
       "      <td>1</td>\n",
       "      <td>1.510106e+09</td>\n",
       "      <td>0.0</td>\n",
       "      <td>1.510106e+09</td>\n",
       "      <td>1.510112e+09</td>\n",
       "      <td>1.510113e+09</td>\n",
       "      <td>2873.611628</td>\n",
       "      <td>NaN</td>\n",
       "      <td>NaN</td>\n",
       "    </tr>\n",
       "    <tr>\n",
       "      <th>2</th>\n",
       "      <td>87242</td>\n",
       "      <td>21</td>\n",
       "      <td>1</td>\n",
       "      <td>40</td>\n",
       "      <td>128</td>\n",
       "      <td>2017-11-08 03:49:51</td>\n",
       "      <td>0</td>\n",
       "      <td>2</td>\n",
       "      <td>3</td>\n",
       "      <td>2</td>\n",
       "      <td>...</td>\n",
       "      <td>1.510113e+09</td>\n",
       "      <td>1</td>\n",
       "      <td>1.510106e+09</td>\n",
       "      <td>7331.0</td>\n",
       "      <td>1.510106e+09</td>\n",
       "      <td>1.510112e+09</td>\n",
       "      <td>1.510113e+09</td>\n",
       "      <td>2873.611628</td>\n",
       "      <td>NaN</td>\n",
       "      <td>NaN</td>\n",
       "    </tr>\n",
       "    <tr>\n",
       "      <th>3</th>\n",
       "      <td>87242</td>\n",
       "      <td>14</td>\n",
       "      <td>1</td>\n",
       "      <td>40</td>\n",
       "      <td>123</td>\n",
       "      <td>2017-11-08 03:50:04</td>\n",
       "      <td>0</td>\n",
       "      <td>2</td>\n",
       "      <td>3</td>\n",
       "      <td>1</td>\n",
       "      <td>...</td>\n",
       "      <td>1.510113e+09</td>\n",
       "      <td>1</td>\n",
       "      <td>1.510113e+09</td>\n",
       "      <td>13.0</td>\n",
       "      <td>1.510106e+09</td>\n",
       "      <td>1.510112e+09</td>\n",
       "      <td>1.510113e+09</td>\n",
       "      <td>2873.611628</td>\n",
       "      <td>NaN</td>\n",
       "      <td>NaN</td>\n",
       "    </tr>\n",
       "    <tr>\n",
       "      <th>4</th>\n",
       "      <td>87242</td>\n",
       "      <td>8</td>\n",
       "      <td>1</td>\n",
       "      <td>40</td>\n",
       "      <td>145</td>\n",
       "      <td>2017-11-08 03:50:49</td>\n",
       "      <td>0</td>\n",
       "      <td>2</td>\n",
       "      <td>3</td>\n",
       "      <td>3</td>\n",
       "      <td>...</td>\n",
       "      <td>1.510113e+09</td>\n",
       "      <td>1</td>\n",
       "      <td>1.510113e+09</td>\n",
       "      <td>45.0</td>\n",
       "      <td>1.510106e+09</td>\n",
       "      <td>1.510112e+09</td>\n",
       "      <td>1.510113e+09</td>\n",
       "      <td>2873.611628</td>\n",
       "      <td>NaN</td>\n",
       "      <td>NaN</td>\n",
       "    </tr>\n",
       "  </tbody>\n",
       "</table>\n",
       "<p>5 rows × 31 columns</p>\n",
       "</div>"
      ],
      "text/plain": [
       "      ip  app  device  os  channel          click_time  is_attributed  dow  \\\n",
       "0  87242   24       1  40      178 2017-11-08 01:47:40              0    2   \n",
       "1  87242    1       1  40      125 2017-11-08 01:47:40              0    2   \n",
       "2  87242   21       1  40      128 2017-11-08 03:49:51              0    2   \n",
       "3  87242   14       1  40      123 2017-11-08 03:50:04              0    2   \n",
       "4  87242    8       1  40      145 2017-11-08 03:50:49              0    2   \n",
       "\n",
       "   hour  clicks_by_ip_os_device_app         ...           ordinal_date  \\\n",
       "0     1                           1         ...           1.510106e+09   \n",
       "1     1                           2         ...           1.510106e+09   \n",
       "2     3                           2         ...           1.510113e+09   \n",
       "3     3                           1         ...           1.510113e+09   \n",
       "4     3                           3         ...           1.510113e+09   \n",
       "\n",
       "   train_set  user_prev_date  user_date_diff  user_min_date  user_mean_date  \\\n",
       "0          1             NaN             NaN   1.510106e+09    1.510112e+09   \n",
       "1          1    1.510106e+09             0.0   1.510106e+09    1.510112e+09   \n",
       "2          1    1.510106e+09          7331.0   1.510106e+09    1.510112e+09   \n",
       "3          1    1.510113e+09            13.0   1.510106e+09    1.510112e+09   \n",
       "4          1    1.510113e+09            45.0   1.510106e+09    1.510112e+09   \n",
       "\n",
       "   user_max_date  user_std_date  user_mean_date_click  user_std_date_click  \n",
       "0   1.510113e+09    2873.611628                   NaN                  NaN  \n",
       "1   1.510113e+09    2873.611628                   NaN                  NaN  \n",
       "2   1.510113e+09    2873.611628                   NaN                  NaN  \n",
       "3   1.510113e+09    2873.611628                   NaN                  NaN  \n",
       "4   1.510113e+09    2873.611628                   NaN                  NaN  \n",
       "\n",
       "[5 rows x 31 columns]"
      ]
     },
     "execution_count": 41,
     "metadata": {},
     "output_type": "execute_result"
    }
   ],
   "source": [
    "full_df.head()"
   ]
  },
  {
   "cell_type": "code",
   "execution_count": 42,
   "metadata": {},
   "outputs": [],
   "source": [
    "full_df = full_df.drop([\"ordinal_date\", \"click_time\", \"user_prev_date\"], axis=1)"
   ]
  },
  {
   "cell_type": "code",
   "execution_count": 43,
   "metadata": {},
   "outputs": [
    {
     "data": {
      "text/plain": [
       "((56983063, 28), (53016937, 28))"
      ]
     },
     "execution_count": 43,
     "metadata": {},
     "output_type": "execute_result"
    }
   ],
   "source": [
    "gc.collect()\n",
    "train = full_df[full_df[\"train_set\"] == 1]\n",
    "valid = full_df[full_df[\"train_set\"] == 0]\n",
    "train.shape,valid.shape"
   ]
  },
  {
   "cell_type": "code",
   "execution_count": 44,
   "metadata": {},
   "outputs": [
    {
     "data": {
      "text/plain": [
       "0"
      ]
     },
     "execution_count": 44,
     "metadata": {},
     "output_type": "execute_result"
    }
   ],
   "source": [
    "del full_df\n",
    "gc.collect()"
   ]
  },
  {
   "cell_type": "code",
   "execution_count": null,
   "metadata": {
    "_cell_guid": "fe692c44-3d2b-45dd-ab57-ad9e936ca42c",
    "_uuid": "7b5d56dca52e522e97d8789d143a1e73b45f3417"
   },
   "outputs": [],
   "source": [
    "'''\n",
    "def get_deltatime(df):\n",
    "    GROUP_BY_NEXT_CLICKS = [\n",
    "        {'groupby': ['ip','device','os']},\n",
    "       ]\n",
    "\n",
    "    # Calculate the time to next click for each group\n",
    "    for spec in GROUP_BY_NEXT_CLICKS:\n",
    "\n",
    "        # Name of new feature\n",
    "        new_feature = '{}_nextClick'.format('_'.join(spec['groupby']))    \n",
    "\n",
    "        # Unique list of features to select\n",
    "        all_features = spec['groupby'] + ['click_time']\n",
    "\n",
    "        # Run calculation\n",
    "        print(f\">> Grouping by {spec['groupby']}, and saving time to next click in: {new_feature}\")\n",
    "        df[new_feature] = df.groupby(spec['groupby']).click_time.transform(lambda x: x.diff().shift(-1)).dt.seconds\n",
    "        \n",
    "    df.drop(['click_time'],axis=1,inplace=True)\n",
    "    return df\n",
    "\n",
    "'''"
   ]
  },
  {
   "cell_type": "code",
   "execution_count": 47,
   "metadata": {
    "_cell_guid": "1fd9d96d-36af-4725-8285-cf64c6ef0fe8",
    "_uuid": "4ea088a55e84825128f8ace75fbe75fee79e257c"
   },
   "outputs": [
    {
     "name": "stdout",
     "output_type": "stream",
     "text": [
      "(56983063, 26) (53016937, 26)\n"
     ]
    },
    {
     "data": {
      "text/plain": [
       "0"
      ]
     },
     "execution_count": 47,
     "metadata": {},
     "output_type": "execute_result"
    }
   ],
   "source": [
    "train.drop(['ip','train_set'],axis=1,inplace=True)\n",
    "valid.drop(['ip','train_set'],axis=1,inplace=True)\n",
    "print(train.shape,valid.shape)\n",
    "gc.collect()"
   ]
  },
  {
   "cell_type": "code",
   "execution_count": null,
   "metadata": {
    "_cell_guid": "d6886df8-78c2-4be4-b9cd-8d727f67b767",
    "_uuid": "b09e3ccff8f39391c36c2d53ae7a37ada3b41c20"
   },
   "outputs": [],
   "source": [
    "#test.reset_index(inplace=True,drop=True)\n",
    "#valid.drop(['is_attributed'],axis=1,inplace=True)\n",
    "#gc.collect()"
   ]
  },
  {
   "cell_type": "code",
   "execution_count": 67,
   "metadata": {},
   "outputs": [
    {
     "data": {
      "text/plain": [
       "0"
      ]
     },
     "execution_count": 67,
     "metadata": {},
     "output_type": "execute_result"
    }
   ],
   "source": [
    "gc.collect()"
   ]
  },
  {
   "cell_type": "code",
   "execution_count": 69,
   "metadata": {
    "scrolled": true
   },
   "outputs": [
    {
     "name": "stdout",
     "output_type": "stream",
     "text": [
      "CPU times: user 0 ns, sys: 0 ns, total: 0 ns\n",
      "Wall time: 8.11 µs\n"
     ]
    }
   ],
   "source": [
    "%%time\n",
    "train.to_feather('train.ftr')\n",
    "valid.to_feather('valid.ftr')"
   ]
  },
  {
   "cell_type": "code",
   "execution_count": null,
   "metadata": {},
   "outputs": [],
   "source": [
    "%%time\n",
    "gc.collect()\n",
    "train=pd.read_feather('train.ftr')\n",
    "valid=pd.read_feather('valid.ftr')"
   ]
  },
  {
   "cell_type": "code",
   "execution_count": 92,
   "metadata": {},
   "outputs": [],
   "source": [
    "#train.drop(['user_min_date','user_mean_date','user_max_date'],axis=1,inplace=True)\n",
    "train.drop(['dow', 'hour','clicks_by_ip_app','clicks_by_ip_app', 'clicks_by_ip_os'],axis=1,inplace=True)\n",
    "\n"
   ]
  },
  {
   "cell_type": "code",
   "execution_count": 93,
   "metadata": {},
   "outputs": [
    {
     "data": {
      "text/plain": [
       "3390"
      ]
     },
     "execution_count": 93,
     "metadata": {},
     "output_type": "execute_result"
    }
   ],
   "source": [
    "#valid.drop(['user_min_date','user_mean_date','user_max_date'],axis=1,inplace=True)\n",
    "valid.drop(['dow', 'hour','clicks_by_ip_app','clicks_by_ip_app', 'clicks_by_ip_os'],axis=1,inplace=True)\n",
    "\n",
    "gc.collect()"
   ]
  },
  {
   "cell_type": "code",
   "execution_count": 94,
   "metadata": {
    "_cell_guid": "bc207485-0533-4ba8-9b09-32d9b463128b",
    "_uuid": "7e49419ffe713119f2b63bb44a9cd499aeb689e9"
   },
   "outputs": [],
   "source": [
    "    \n",
    "dtrain = lgbm.Dataset(train.drop(['is_attributed'],axis=1), label=train.is_attributed)\n",
    "dvalid = lgbm.Dataset(valid.drop(['is_attributed'],axis=1), label=valid.is_attributed)"
   ]
  },
  {
   "cell_type": "code",
   "execution_count": null,
   "metadata": {
    "_cell_guid": "d58e8909-a92f-4150-a907-c7ab6a1dddea",
    "_uuid": "d94358e2e27d65c03442e0f849b1f2466187362a"
   },
   "outputs": [],
   "source": [
    "#del train,valid"
   ]
  },
  {
   "cell_type": "code",
   "execution_count": 95,
   "metadata": {},
   "outputs": [
    {
     "data": {
      "text/plain": [
       "0"
      ]
     },
     "execution_count": 95,
     "metadata": {},
     "output_type": "execute_result"
    }
   ],
   "source": [
    "gc.collect()"
   ]
  },
  {
   "cell_type": "code",
   "execution_count": null,
   "metadata": {
    "_cell_guid": "844352a7-fc10-4396-b640-24640da7e923",
    "_uuid": "6a615ca7e68be8f992db287fda121342f2d6f3aa",
    "scrolled": true
   },
   "outputs": [
    {
     "name": "stdout",
     "output_type": "stream",
     "text": [
      "Training the model...\n",
      "[1]\ttrain's auc: 0.936836\tvalid's auc: 0.835805\n",
      "[2]\ttrain's auc: 0.938461\tvalid's auc: 0.837497\n",
      "[3]\ttrain's auc: 0.938462\tvalid's auc: 0.837497\n",
      "[4]\ttrain's auc: 0.938462\tvalid's auc: 0.837497\n",
      "[5]\ttrain's auc: 0.938463\tvalid's auc: 0.837498\n",
      "[6]\ttrain's auc: 0.938463\tvalid's auc: 0.837497\n"
     ]
    }
   ],
   "source": [
    "\n",
    "params = {\n",
    "    'boosting_type': 'gbdt',\n",
    "    'objective': 'binary',\n",
    "    'metric': 'auc',\n",
    "    'learning_rate': 0.01,\n",
    "    'num_leaves':30,  \n",
    "    'max_depth': 6,\n",
    "    'nthread': 4,\n",
    "    'reg_alpha': 0.1, # L1 regularization term on weights\n",
    "    'reg_lambda': 0.1,\n",
    "    #'scale_pos_weight': 99.7\n",
    "    'verbose':1\n",
    "    }\n",
    "\n",
    "\n",
    "evals_results = {}\n",
    "\n",
    "print(\"Training the model...\")\n",
    "\n",
    "lgb_model = lgbm.train(params, dtrain,valid_sets=[dtrain, dvalid], \n",
    "                 valid_names=['train','valid'], \n",
    "                 evals_result=evals_results, \n",
    "                 num_boost_round=20)"
   ]
  },
  {
   "cell_type": "code",
   "execution_count": null,
   "metadata": {},
   "outputs": [],
   "source": [
    "import matplotlib.pyplot as plt\n",
    "ax = lgbm.plot_importance(lgb_model, max_num_features=30)\n",
    "plt.show()"
   ]
  },
  {
   "cell_type": "code",
   "execution_count": null,
   "metadata": {
    "_cell_guid": "9e71cd7f-4312-41d1-ba47-1b7cb5d31134",
    "_uuid": "9636b4296bac774d255425af463a29ead42ec7d3"
   },
   "outputs": [],
   "source": [
    "print('Feature names:', lgb_model.feature_name())\n",
    "print('Feature importances:', list(lgb_model.feature_importance()))\n"
   ]
  },
  {
   "cell_type": "code",
   "execution_count": null,
   "metadata": {
    "_cell_guid": "ffffdd77-024f-4946-bfa2-b047b699f3a4",
    "_uuid": "422f36f45ae5b11681e9ff4f860a5d704e916db0"
   },
   "outputs": [],
   "source": [
    "submit = pd.read_csv(path_test, dtype='int', usecols=['click_id'])\n",
    "submit['is_attributed'] = lgb_model.predict(test[predictors], num_iteration=lgb_model.best_iteration)\n",
    "submit.to_csv('submission.csv', index=False)\n"
   ]
  },
  {
   "cell_type": "code",
   "execution_count": null,
   "metadata": {
    "_cell_guid": "e446331d-4998-45cd-85f3-571e1a99caa2",
    "_uuid": "c9a137dca7851b96f8434551eaf3cb4eb4771c71"
   },
   "outputs": [],
   "source": [
    "\n",
    "del train\n",
    "del val\n",
    "gc.collect()\n"
   ]
  }
 ],
 "metadata": {
  "kernelspec": {
   "display_name": "Python 3",
   "language": "python",
   "name": "python3"
  },
  "language_info": {
   "codemirror_mode": {
    "name": "ipython",
    "version": 3
   },
   "file_extension": ".py",
   "mimetype": "text/x-python",
   "name": "python",
   "nbconvert_exporter": "python",
   "pygments_lexer": "ipython3",
   "version": "3.6.4"
  }
 },
 "nbformat": 4,
 "nbformat_minor": 1
}
